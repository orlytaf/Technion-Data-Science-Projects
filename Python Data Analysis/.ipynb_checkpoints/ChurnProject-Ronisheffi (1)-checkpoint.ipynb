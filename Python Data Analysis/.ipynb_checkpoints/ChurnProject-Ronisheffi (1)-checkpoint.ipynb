{
 "cells": [
  {
   "cell_type": "code",
   "execution_count": 2,
   "id": "0dd6fd30-c3b5-4e4f-98dc-50f1888d03d3",
   "metadata": {},
   "outputs": [],
   "source": [
    "%matplotlib inline\n",
    "import numpy as np\n",
    "import pandas as pd\n",
    "import matplotlib.pyplot as plt\n",
    "import seaborn as sns\n",
    "\n",
    "\n",
    "churn = pd.read_csv('churn.csv')"
   ]
  },
  {
   "cell_type": "markdown",
   "id": "b3632e95-0152-4c63-b065-f48fa20635ca",
   "metadata": {},
   "source": [
    "Check how many examples and how many features are in the dataset"
   ]
  },
  {
   "cell_type": "code",
   "execution_count": 3,
   "id": "89bb49eb-fa86-44c0-85ab-2968cf3b5138",
   "metadata": {},
   "outputs": [
    {
     "data": {
      "text/plain": [
       "(7043, 21)"
      ]
     },
     "execution_count": 3,
     "metadata": {},
     "output_type": "execute_result"
    }
   ],
   "source": [
    "churn.shape"
   ]
  },
  {
   "cell_type": "markdown",
   "id": "99dbedff-1b9d-4aea-a4ba-6c8a476ccb90",
   "metadata": {},
   "source": [
    "We have 7043 examples and 21 columns (20 features\\variables and one label)"
   ]
  },
  {
   "cell_type": "markdown",
   "id": "d660f716-143d-458b-a1f8-21811aa32cad",
   "metadata": {},
   "source": [
    "Look at the Data"
   ]
  },
  {
   "cell_type": "code",
   "execution_count": 4,
   "id": "410ec5f9-8868-45e2-a309-f09c2b6b7beb",
   "metadata": {},
   "outputs": [
    {
     "data": {
      "text/plain": [
       "Index(['customerID', 'gender', 'SeniorCitizen', 'Partner', 'Dependents',\n",
       "       'tenure', 'PhoneService', 'MultipleLines', 'InternetService',\n",
       "       'OnlineSecurity', 'OnlineBackup', 'DeviceProtection', 'TechSupport',\n",
       "       'StreamingTV', 'StreamingMovies', 'Contract', 'PaperlessBilling',\n",
       "       'PaymentMethod', 'MonthlyCharges', 'TotalCharges', 'Churn'],\n",
       "      dtype='object')"
      ]
     },
     "execution_count": 4,
     "metadata": {},
     "output_type": "execute_result"
    }
   ],
   "source": [
    "churn.columns"
   ]
  },
  {
   "cell_type": "code",
   "execution_count": 5,
   "id": "b9961ef0-2b7f-49fd-bef3-4cc90a1ca77a",
   "metadata": {},
   "outputs": [
    {
     "name": "stdout",
     "output_type": "stream",
     "text": [
      "<class 'pandas.core.frame.DataFrame'>\n",
      "RangeIndex: 7043 entries, 0 to 7042\n",
      "Data columns (total 21 columns):\n",
      " #   Column            Non-Null Count  Dtype  \n",
      "---  ------            --------------  -----  \n",
      " 0   customerID        7043 non-null   object \n",
      " 1   gender            7043 non-null   object \n",
      " 2   SeniorCitizen     7043 non-null   int64  \n",
      " 3   Partner           7043 non-null   object \n",
      " 4   Dependents        7043 non-null   object \n",
      " 5   tenure            7043 non-null   int64  \n",
      " 6   PhoneService      7043 non-null   object \n",
      " 7   MultipleLines     7043 non-null   object \n",
      " 8   InternetService   7043 non-null   object \n",
      " 9   OnlineSecurity    7043 non-null   object \n",
      " 10  OnlineBackup      7043 non-null   object \n",
      " 11  DeviceProtection  7043 non-null   object \n",
      " 12  TechSupport       7043 non-null   object \n",
      " 13  StreamingTV       7043 non-null   object \n",
      " 14  StreamingMovies   7043 non-null   object \n",
      " 15  Contract          7043 non-null   object \n",
      " 16  PaperlessBilling  7043 non-null   object \n",
      " 17  PaymentMethod     7043 non-null   object \n",
      " 18  MonthlyCharges    7043 non-null   float64\n",
      " 19  TotalCharges      7043 non-null   object \n",
      " 20  Churn             7043 non-null   object \n",
      "dtypes: float64(1), int64(2), object(18)\n",
      "memory usage: 1.1+ MB\n"
     ]
    }
   ],
   "source": [
    "churn.info()"
   ]
  },
  {
   "cell_type": "code",
   "execution_count": 6,
   "id": "0c6ea94e-fda1-4fb3-84a6-eb7f69609b89",
   "metadata": {},
   "outputs": [
    {
     "data": {
      "text/plain": [
       "No     0.73463\n",
       "Yes    0.26537\n",
       "Name: Churn, dtype: float64"
      ]
     },
     "execution_count": 6,
     "metadata": {},
     "output_type": "execute_result"
    }
   ],
   "source": [
    "churn.Churn.value_counts(normalize=True)\n"
   ]
  },
  {
   "cell_type": "code",
   "execution_count": 7,
   "id": "1f418dda-2652-427c-8ecb-8b3649077979",
   "metadata": {},
   "outputs": [
    {
     "data": {
      "image/png": "[encoded data removed]",
      "text/plain": [
       "<Figure size 720x576 with 1 Axes>"
      ]
     },
     "metadata": {},
     "output_type": "display_data"
    }
   ],
   "source": [
    " y = churn.Churn.value_counts(normalize=True)\n",
    "y_list = y.tolist()\n",
    "l_list = [\"Active customers\",\"Churn\"]\n",
    "c = [\"#FC7CCD\", \"#FCB9E3\"]\n",
    "plt.figure(figsize=(10,8))\n",
    "e = [0,0.1]\n",
    "plt.pie(y, labels = l_list, textprops=dict(color=\"w\"),colors = c, explode = e, autopct='%.0f%%')\n",
    "\n",
    "plt.legend(title = \"Churn Rate\", loc=\"upper right\")\n",
    "plt.show()"
   ]
  },
  {
   "cell_type": "code",
   "execution_count": 8,
   "id": "fcb7485b-19d3-4f25-8410-9f314cfe3b17",
   "metadata": {},
   "outputs": [
    {
     "data": {
      "text/html": [
       "<div>\n",
       "<style scoped>\n",
       "    .dataframe tbody tr th:only-of-type {\n",
       "        vertical-align: middle;\n",
       "    }\n",
       "\n",
       "    .dataframe tbody tr th {\n",
       "        vertical-align: top;\n",
       "    }\n",
       "\n",
       "    .dataframe thead th {\n",
       "        text-align: right;\n",
       "    }\n",
       "</style>\n",
       "<table border=\"1\" class=\"dataframe\">\n",
       "  <thead>\n",
       "    <tr style=\"text-align: right;\">\n",
       "      <th></th>\n",
       "      <th>customerID</th>\n",
       "      <th>gender</th>\n",
       "      <th>SeniorCitizen</th>\n",
       "      <th>Partner</th>\n",
       "      <th>Dependents</th>\n",
       "      <th>tenure</th>\n",
       "      <th>PhoneService</th>\n",
       "      <th>MultipleLines</th>\n",
       "      <th>InternetService</th>\n",
       "      <th>OnlineSecurity</th>\n",
       "      <th>...</th>\n",
       "      <th>DeviceProtection</th>\n",
       "      <th>TechSupport</th>\n",
       "      <th>StreamingTV</th>\n",
       "      <th>StreamingMovies</th>\n",
       "      <th>Contract</th>\n",
       "      <th>PaperlessBilling</th>\n",
       "      <th>PaymentMethod</th>\n",
       "      <th>MonthlyCharges</th>\n",
       "      <th>TotalCharges</th>\n",
       "      <th>Churn</th>\n",
       "    </tr>\n",
       "  </thead>\n",
       "  <tbody>\n",
       "    <tr>\n",
       "      <th>0</th>\n",
       "      <td>7590-VHVEG</td>\n",
       "      <td>Female</td>\n",
       "      <td>0</td>\n",
       "      <td>Yes</td>\n",
       "      <td>No</td>\n",
       "      <td>1</td>\n",
       "      <td>No</td>\n",
       "      <td>No phone service</td>\n",
       "      <td>DSL</td>\n",
       "      <td>No</td>\n",
       "      <td>...</td>\n",
       "      <td>No</td>\n",
       "      <td>No</td>\n",
       "      <td>No</td>\n",
       "      <td>No</td>\n",
       "      <td>Month-to-month</td>\n",
       "      <td>Yes</td>\n",
       "      <td>Electronic check</td>\n",
       "      <td>29.85</td>\n",
       "      <td>29.85</td>\n",
       "      <td>No</td>\n",
       "    </tr>\n",
       "    <tr>\n",
       "      <th>1</th>\n",
       "      <td>5575-GNVDE</td>\n",
       "      <td>Male</td>\n",
       "      <td>0</td>\n",
       "      <td>No</td>\n",
       "      <td>No</td>\n",
       "      <td>34</td>\n",
       "      <td>Yes</td>\n",
       "      <td>No</td>\n",
       "      <td>DSL</td>\n",
       "      <td>Yes</td>\n",
       "      <td>...</td>\n",
       "      <td>Yes</td>\n",
       "      <td>No</td>\n",
       "      <td>No</td>\n",
       "      <td>No</td>\n",
       "      <td>One year</td>\n",
       "      <td>No</td>\n",
       "      <td>Mailed check</td>\n",
       "      <td>56.95</td>\n",
       "      <td>1889.5</td>\n",
       "      <td>No</td>\n",
       "    </tr>\n",
       "    <tr>\n",
       "      <th>2</th>\n",
       "      <td>3668-QPYBK</td>\n",
       "      <td>Male</td>\n",
       "      <td>0</td>\n",
       "      <td>No</td>\n",
       "      <td>No</td>\n",
       "      <td>2</td>\n",
       "      <td>Yes</td>\n",
       "      <td>No</td>\n",
       "      <td>DSL</td>\n",
       "      <td>Yes</td>\n",
       "      <td>...</td>\n",
       "      <td>No</td>\n",
       "      <td>No</td>\n",
       "      <td>No</td>\n",
       "      <td>No</td>\n",
       "      <td>Month-to-month</td>\n",
       "      <td>Yes</td>\n",
       "      <td>Mailed check</td>\n",
       "      <td>53.85</td>\n",
       "      <td>108.15</td>\n",
       "      <td>Yes</td>\n",
       "    </tr>\n",
       "    <tr>\n",
       "      <th>3</th>\n",
       "      <td>7795-CFOCW</td>\n",
       "      <td>Male</td>\n",
       "      <td>0</td>\n",
       "      <td>No</td>\n",
       "      <td>No</td>\n",
       "      <td>45</td>\n",
       "      <td>No</td>\n",
       "      <td>No phone service</td>\n",
       "      <td>DSL</td>\n",
       "      <td>Yes</td>\n",
       "      <td>...</td>\n",
       "      <td>Yes</td>\n",
       "      <td>Yes</td>\n",
       "      <td>No</td>\n",
       "      <td>No</td>\n",
       "      <td>One year</td>\n",
       "      <td>No</td>\n",
       "      <td>Bank transfer (automatic)</td>\n",
       "      <td>42.30</td>\n",
       "      <td>1840.75</td>\n",
       "      <td>No</td>\n",
       "    </tr>\n",
       "    <tr>\n",
       "      <th>4</th>\n",
       "      <td>9237-HQITU</td>\n",
       "      <td>Female</td>\n",
       "      <td>0</td>\n",
       "      <td>No</td>\n",
       "      <td>No</td>\n",
       "      <td>2</td>\n",
       "      <td>Yes</td>\n",
       "      <td>No</td>\n",
       "      <td>Fiber optic</td>\n",
       "      <td>No</td>\n",
       "      <td>...</td>\n",
       "      <td>No</td>\n",
       "      <td>No</td>\n",
       "      <td>No</td>\n",
       "      <td>No</td>\n",
       "      <td>Month-to-month</td>\n",
       "      <td>Yes</td>\n",
       "      <td>Electronic check</td>\n",
       "      <td>70.70</td>\n",
       "      <td>151.65</td>\n",
       "      <td>Yes</td>\n",
       "    </tr>\n",
       "    <tr>\n",
       "      <th>5</th>\n",
       "      <td>9305-CDSKC</td>\n",
       "      <td>Female</td>\n",
       "      <td>0</td>\n",
       "      <td>No</td>\n",
       "      <td>No</td>\n",
       "      <td>8</td>\n",
       "      <td>Yes</td>\n",
       "      <td>Yes</td>\n",
       "      <td>Fiber optic</td>\n",
       "      <td>No</td>\n",
       "      <td>...</td>\n",
       "      <td>Yes</td>\n",
       "      <td>No</td>\n",
       "      <td>Yes</td>\n",
       "      <td>Yes</td>\n",
       "      <td>Month-to-month</td>\n",
       "      <td>Yes</td>\n",
       "      <td>Electronic check</td>\n",
       "      <td>99.65</td>\n",
       "      <td>820.5</td>\n",
       "      <td>Yes</td>\n",
       "    </tr>\n",
       "    <tr>\n",
       "      <th>6</th>\n",
       "      <td>1452-KIOVK</td>\n",
       "      <td>Male</td>\n",
       "      <td>0</td>\n",
       "      <td>No</td>\n",
       "      <td>Yes</td>\n",
       "      <td>22</td>\n",
       "      <td>Yes</td>\n",
       "      <td>Yes</td>\n",
       "      <td>Fiber optic</td>\n",
       "      <td>No</td>\n",
       "      <td>...</td>\n",
       "      <td>No</td>\n",
       "      <td>No</td>\n",
       "      <td>Yes</td>\n",
       "      <td>No</td>\n",
       "      <td>Month-to-month</td>\n",
       "      <td>Yes</td>\n",
       "      <td>Credit card (automatic)</td>\n",
       "      <td>89.10</td>\n",
       "      <td>1949.4</td>\n",
       "      <td>No</td>\n",
       "    </tr>\n",
       "    <tr>\n",
       "      <th>7</th>\n",
       "      <td>6713-OKOMC</td>\n",
       "      <td>Female</td>\n",
       "      <td>0</td>\n",
       "      <td>No</td>\n",
       "      <td>No</td>\n",
       "      <td>10</td>\n",
       "      <td>No</td>\n",
       "      <td>No phone service</td>\n",
       "      <td>DSL</td>\n",
       "      <td>Yes</td>\n",
       "      <td>...</td>\n",
       "      <td>No</td>\n",
       "      <td>No</td>\n",
       "      <td>No</td>\n",
       "      <td>No</td>\n",
       "      <td>Month-to-month</td>\n",
       "      <td>No</td>\n",
       "      <td>Mailed check</td>\n",
       "      <td>29.75</td>\n",
       "      <td>301.9</td>\n",
       "      <td>No</td>\n",
       "    </tr>\n",
       "    <tr>\n",
       "      <th>8</th>\n",
       "      <td>7892-POOKP</td>\n",
       "      <td>Female</td>\n",
       "      <td>0</td>\n",
       "      <td>Yes</td>\n",
       "      <td>No</td>\n",
       "      <td>28</td>\n",
       "      <td>Yes</td>\n",
       "      <td>Yes</td>\n",
       "      <td>Fiber optic</td>\n",
       "      <td>No</td>\n",
       "      <td>...</td>\n",
       "      <td>Yes</td>\n",
       "      <td>Yes</td>\n",
       "      <td>Yes</td>\n",
       "      <td>Yes</td>\n",
       "      <td>Month-to-month</td>\n",
       "      <td>Yes</td>\n",
       "      <td>Electronic check</td>\n",
       "      <td>104.80</td>\n",
       "      <td>3046.05</td>\n",
       "      <td>Yes</td>\n",
       "    </tr>\n",
       "    <tr>\n",
       "      <th>9</th>\n",
       "      <td>6388-TABGU</td>\n",
       "      <td>Male</td>\n",
       "      <td>0</td>\n",
       "      <td>No</td>\n",
       "      <td>Yes</td>\n",
       "      <td>62</td>\n",
       "      <td>Yes</td>\n",
       "      <td>No</td>\n",
       "      <td>DSL</td>\n",
       "      <td>Yes</td>\n",
       "      <td>...</td>\n",
       "      <td>No</td>\n",
       "      <td>No</td>\n",
       "      <td>No</td>\n",
       "      <td>No</td>\n",
       "      <td>One year</td>\n",
       "      <td>No</td>\n",
       "      <td>Bank transfer (automatic)</td>\n",
       "      <td>56.15</td>\n",
       "      <td>3487.95</td>\n",
       "      <td>No</td>\n",
       "    </tr>\n",
       "  </tbody>\n",
       "</table>\n",
       "<p>10 rows × 21 columns</p>\n",
       "</div>"
      ],
      "text/plain": [
       "   customerID  gender  SeniorCitizen Partner Dependents  tenure PhoneService  \\\n",
       "0  7590-VHVEG  Female              0     Yes         No       1           No   \n",
       "1  5575-GNVDE    Male              0      No         No      34          Yes   \n",
       "2  3668-QPYBK    Male              0      No         No       2          Yes   \n",
       "3  7795-CFOCW    Male              0      No         No      45           No   \n",
       "4  9237-HQITU  Female              0      No         No       2          Yes   \n",
       "5  9305-CDSKC  Female              0      No         No       8          Yes   \n",
       "6  1452-KIOVK    Male              0      No        Yes      22          Yes   \n",
       "7  6713-OKOMC  Female              0      No         No      10           No   \n",
       "8  7892-POOKP  Female              0     Yes         No      28          Yes   \n",
       "9  6388-TABGU    Male              0      No        Yes      62          Yes   \n",
       "\n",
       "      MultipleLines InternetService OnlineSecurity  ... DeviceProtection  \\\n",
       "0  No phone service             DSL             No  ...               No   \n",
       "1                No             DSL            Yes  ...              Yes   \n",
       "2                No             DSL            Yes  ...               No   \n",
       "3  No phone service             DSL            Yes  ...              Yes   \n",
       "4                No     Fiber optic             No  ...               No   \n",
       "5               Yes     Fiber optic             No  ...              Yes   \n",
       "6               Yes     Fiber optic             No  ...               No   \n",
       "7  No phone service             DSL            Yes  ...               No   \n",
       "8               Yes     Fiber optic             No  ...              Yes   \n",
       "9                No             DSL            Yes  ...               No   \n",
       "\n",
       "  TechSupport StreamingTV StreamingMovies        Contract PaperlessBilling  \\\n",
       "0          No          No              No  Month-to-month              Yes   \n",
       "1          No          No              No        One year               No   \n",
       "2          No          No              No  Month-to-month              Yes   \n",
       "3         Yes          No              No        One year               No   \n",
       "4          No          No              No  Month-to-month              Yes   \n",
       "5          No         Yes             Yes  Month-to-month              Yes   \n",
       "6          No         Yes              No  Month-to-month              Yes   \n",
       "7          No          No              No  Month-to-month               No   \n",
       "8         Yes         Yes             Yes  Month-to-month              Yes   \n",
       "9          No          No              No        One year               No   \n",
       "\n",
       "               PaymentMethod MonthlyCharges  TotalCharges Churn  \n",
       "0           Electronic check          29.85         29.85    No  \n",
       "1               Mailed check          56.95        1889.5    No  \n",
       "2               Mailed check          53.85        108.15   Yes  \n",
       "3  Bank transfer (automatic)          42.30       1840.75    No  \n",
       "4           Electronic check          70.70        151.65   Yes  \n",
       "5           Electronic check          99.65         820.5   Yes  \n",
       "6    Credit card (automatic)          89.10        1949.4    No  \n",
       "7               Mailed check          29.75         301.9    No  \n",
       "8           Electronic check         104.80       3046.05   Yes  \n",
       "9  Bank transfer (automatic)          56.15       3487.95    No  \n",
       "\n",
       "[10 rows x 21 columns]"
      ]
     },
     "execution_count": 8,
     "metadata": {},
     "output_type": "execute_result"
    }
   ],
   "source": [
    "churn.head(10)"
   ]
  },
  {
   "cell_type": "code",
   "execution_count": 9,
   "id": "b336916a-60d7-4600-b8ad-9e5598ccf33d",
   "metadata": {},
   "outputs": [
    {
     "data": {
      "text/plain": [
       "customerID           object\n",
       "gender               object\n",
       "SeniorCitizen         int64\n",
       "Partner               int32\n",
       "Dependents            int32\n",
       "tenure                int64\n",
       "PhoneService          int32\n",
       "MultipleLines         int32\n",
       "InternetService      object\n",
       "OnlineSecurity        int32\n",
       "OnlineBackup          int32\n",
       "DeviceProtection      int32\n",
       "TechSupport           int32\n",
       "StreamingTV           int32\n",
       "StreamingMovies       int32\n",
       "Contract             object\n",
       "PaperlessBilling      int32\n",
       "PaymentMethod        object\n",
       "MonthlyCharges      float64\n",
       "TotalCharges         object\n",
       "Churn                 int32\n",
       "dtype: object"
      ]
     },
     "execution_count": 9,
     "metadata": {},
     "output_type": "execute_result"
    }
   ],
   "source": [
    "churn.Partner = (churn.Partner=='Yes').astype('int')\n",
    "churn.Dependents = (churn.Dependents=='Yes').astype('int')\n",
    "churn.PhoneService = (churn.PhoneService=='Yes').astype('int')\n",
    "churn.MultipleLines = (churn.MultipleLines=='Yes').astype('int')\n",
    "churn.OnlineSecurity = (churn.OnlineSecurity=='Yes').astype('int')\n",
    "churn.OnlineBackup = (churn.OnlineBackup=='Yes').astype('int')\n",
    "churn.DeviceProtection = (churn.DeviceProtection=='Yes').astype('int')\n",
    "churn.TechSupport = (churn.TechSupport=='Yes').astype('int')\n",
    "churn.StreamingTV = (churn.StreamingTV=='Yes').astype('int')\n",
    "churn.StreamingMovies = (churn.StreamingMovies=='Yes').astype('int')\n",
    "churn.StreamingMovies = (churn.PaymentMethod=='Yes').astype('int')\n",
    "churn.PaperlessBilling = (churn.PaperlessBilling=='Yes').astype('int')\n",
    "churn.Churn = (churn.Churn=='Yes').astype('int')\n",
    "churn.dtypes"
   ]
  },
  {
   "cell_type": "code",
   "execution_count": 10,
   "id": "436e61f5-add8-4222-bbc2-0b4f29ba6506",
   "metadata": {},
   "outputs": [],
   "source": [
    "def corr_plots(churn_df):\n",
    "    corr = churn.corr()['Churn'].drop('Churn')\n",
    "    corr_keys = list(corr.keys())\n",
    "    corr_list = list(corr)\n",
    "\n",
    "    fig = plt.figure(figsize=(10, 5))\n",
    "\n",
    "    # creating the bar plot\n",
    "    plt.barh(corr_keys, corr_list, color='#E234A3')\n",
    "\n",
    "    plt.xlabel(\"Corr To Churn\")\n",
    "    plt.ylabel(\"Features\")\n",
    "    plt.title(\"Correlation Plot\")\n",
    "    plt.show()\n",
    "\n",
    "\n",
    "\n",
    "# corr_values = corr.values()\n",
    "#plot(kind='barh')"
   ]
  },
  {
   "cell_type": "code",
   "execution_count": null,
   "id": "4719ac8d-d1e6-4a39-b056-2500d1d6f2ee",
   "metadata": {},
   "outputs": [],
   "source": []
  },
  {
   "cell_type": "code",
   "execution_count": 11,
   "id": "b24cafe9-2607-4924-8b8e-682ba9eb1fe0",
   "metadata": {},
   "outputs": [
    {
     "data": {
      "text/html": [
       "<div>\n",
       "<style scoped>\n",
       "    .dataframe tbody tr th:only-of-type {\n",
       "        vertical-align: middle;\n",
       "    }\n",
       "\n",
       "    .dataframe tbody tr th {\n",
       "        vertical-align: top;\n",
       "    }\n",
       "\n",
       "    .dataframe thead th {\n",
       "        text-align: right;\n",
       "    }\n",
       "</style>\n",
       "<table border=\"1\" class=\"dataframe\">\n",
       "  <thead>\n",
       "    <tr style=\"text-align: right;\">\n",
       "      <th></th>\n",
       "      <th>customerID</th>\n",
       "      <th>gender</th>\n",
       "      <th>SeniorCitizen</th>\n",
       "      <th>Partner</th>\n",
       "      <th>Dependents</th>\n",
       "      <th>tenure</th>\n",
       "      <th>PhoneService</th>\n",
       "      <th>MultipleLines</th>\n",
       "      <th>InternetService</th>\n",
       "      <th>OnlineSecurity</th>\n",
       "      <th>...</th>\n",
       "      <th>DeviceProtection</th>\n",
       "      <th>TechSupport</th>\n",
       "      <th>StreamingTV</th>\n",
       "      <th>StreamingMovies</th>\n",
       "      <th>Contract</th>\n",
       "      <th>PaperlessBilling</th>\n",
       "      <th>PaymentMethod</th>\n",
       "      <th>MonthlyCharges</th>\n",
       "      <th>TotalCharges</th>\n",
       "      <th>Churn</th>\n",
       "    </tr>\n",
       "  </thead>\n",
       "  <tbody>\n",
       "    <tr>\n",
       "      <th>488</th>\n",
       "      <td>False</td>\n",
       "      <td>False</td>\n",
       "      <td>False</td>\n",
       "      <td>False</td>\n",
       "      <td>False</td>\n",
       "      <td>False</td>\n",
       "      <td>False</td>\n",
       "      <td>False</td>\n",
       "      <td>False</td>\n",
       "      <td>False</td>\n",
       "      <td>...</td>\n",
       "      <td>False</td>\n",
       "      <td>False</td>\n",
       "      <td>False</td>\n",
       "      <td>False</td>\n",
       "      <td>False</td>\n",
       "      <td>False</td>\n",
       "      <td>False</td>\n",
       "      <td>False</td>\n",
       "      <td>False</td>\n",
       "      <td>False</td>\n",
       "    </tr>\n",
       "    <tr>\n",
       "      <th>753</th>\n",
       "      <td>False</td>\n",
       "      <td>False</td>\n",
       "      <td>False</td>\n",
       "      <td>False</td>\n",
       "      <td>False</td>\n",
       "      <td>False</td>\n",
       "      <td>False</td>\n",
       "      <td>False</td>\n",
       "      <td>False</td>\n",
       "      <td>False</td>\n",
       "      <td>...</td>\n",
       "      <td>False</td>\n",
       "      <td>False</td>\n",
       "      <td>False</td>\n",
       "      <td>False</td>\n",
       "      <td>False</td>\n",
       "      <td>False</td>\n",
       "      <td>False</td>\n",
       "      <td>False</td>\n",
       "      <td>False</td>\n",
       "      <td>False</td>\n",
       "    </tr>\n",
       "    <tr>\n",
       "      <th>936</th>\n",
       "      <td>False</td>\n",
       "      <td>False</td>\n",
       "      <td>False</td>\n",
       "      <td>False</td>\n",
       "      <td>False</td>\n",
       "      <td>False</td>\n",
       "      <td>False</td>\n",
       "      <td>False</td>\n",
       "      <td>False</td>\n",
       "      <td>False</td>\n",
       "      <td>...</td>\n",
       "      <td>False</td>\n",
       "      <td>False</td>\n",
       "      <td>False</td>\n",
       "      <td>False</td>\n",
       "      <td>False</td>\n",
       "      <td>False</td>\n",
       "      <td>False</td>\n",
       "      <td>False</td>\n",
       "      <td>False</td>\n",
       "      <td>False</td>\n",
       "    </tr>\n",
       "    <tr>\n",
       "      <th>1082</th>\n",
       "      <td>False</td>\n",
       "      <td>False</td>\n",
       "      <td>False</td>\n",
       "      <td>False</td>\n",
       "      <td>False</td>\n",
       "      <td>False</td>\n",
       "      <td>False</td>\n",
       "      <td>False</td>\n",
       "      <td>False</td>\n",
       "      <td>False</td>\n",
       "      <td>...</td>\n",
       "      <td>False</td>\n",
       "      <td>False</td>\n",
       "      <td>False</td>\n",
       "      <td>False</td>\n",
       "      <td>False</td>\n",
       "      <td>False</td>\n",
       "      <td>False</td>\n",
       "      <td>False</td>\n",
       "      <td>False</td>\n",
       "      <td>False</td>\n",
       "    </tr>\n",
       "    <tr>\n",
       "      <th>1340</th>\n",
       "      <td>False</td>\n",
       "      <td>False</td>\n",
       "      <td>False</td>\n",
       "      <td>False</td>\n",
       "      <td>False</td>\n",
       "      <td>False</td>\n",
       "      <td>False</td>\n",
       "      <td>False</td>\n",
       "      <td>False</td>\n",
       "      <td>False</td>\n",
       "      <td>...</td>\n",
       "      <td>False</td>\n",
       "      <td>False</td>\n",
       "      <td>False</td>\n",
       "      <td>False</td>\n",
       "      <td>False</td>\n",
       "      <td>False</td>\n",
       "      <td>False</td>\n",
       "      <td>False</td>\n",
       "      <td>False</td>\n",
       "      <td>False</td>\n",
       "    </tr>\n",
       "    <tr>\n",
       "      <th>3331</th>\n",
       "      <td>False</td>\n",
       "      <td>False</td>\n",
       "      <td>False</td>\n",
       "      <td>False</td>\n",
       "      <td>False</td>\n",
       "      <td>False</td>\n",
       "      <td>False</td>\n",
       "      <td>False</td>\n",
       "      <td>False</td>\n",
       "      <td>False</td>\n",
       "      <td>...</td>\n",
       "      <td>False</td>\n",
       "      <td>False</td>\n",
       "      <td>False</td>\n",
       "      <td>False</td>\n",
       "      <td>False</td>\n",
       "      <td>False</td>\n",
       "      <td>False</td>\n",
       "      <td>False</td>\n",
       "      <td>False</td>\n",
       "      <td>False</td>\n",
       "    </tr>\n",
       "    <tr>\n",
       "      <th>3826</th>\n",
       "      <td>False</td>\n",
       "      <td>False</td>\n",
       "      <td>False</td>\n",
       "      <td>False</td>\n",
       "      <td>False</td>\n",
       "      <td>False</td>\n",
       "      <td>False</td>\n",
       "      <td>False</td>\n",
       "      <td>False</td>\n",
       "      <td>False</td>\n",
       "      <td>...</td>\n",
       "      <td>False</td>\n",
       "      <td>False</td>\n",
       "      <td>False</td>\n",
       "      <td>False</td>\n",
       "      <td>False</td>\n",
       "      <td>False</td>\n",
       "      <td>False</td>\n",
       "      <td>False</td>\n",
       "      <td>False</td>\n",
       "      <td>False</td>\n",
       "    </tr>\n",
       "    <tr>\n",
       "      <th>4380</th>\n",
       "      <td>False</td>\n",
       "      <td>False</td>\n",
       "      <td>False</td>\n",
       "      <td>False</td>\n",
       "      <td>False</td>\n",
       "      <td>False</td>\n",
       "      <td>False</td>\n",
       "      <td>False</td>\n",
       "      <td>False</td>\n",
       "      <td>False</td>\n",
       "      <td>...</td>\n",
       "      <td>False</td>\n",
       "      <td>False</td>\n",
       "      <td>False</td>\n",
       "      <td>False</td>\n",
       "      <td>False</td>\n",
       "      <td>False</td>\n",
       "      <td>False</td>\n",
       "      <td>False</td>\n",
       "      <td>False</td>\n",
       "      <td>False</td>\n",
       "    </tr>\n",
       "    <tr>\n",
       "      <th>5218</th>\n",
       "      <td>False</td>\n",
       "      <td>False</td>\n",
       "      <td>False</td>\n",
       "      <td>False</td>\n",
       "      <td>False</td>\n",
       "      <td>False</td>\n",
       "      <td>False</td>\n",
       "      <td>False</td>\n",
       "      <td>False</td>\n",
       "      <td>False</td>\n",
       "      <td>...</td>\n",
       "      <td>False</td>\n",
       "      <td>False</td>\n",
       "      <td>False</td>\n",
       "      <td>False</td>\n",
       "      <td>False</td>\n",
       "      <td>False</td>\n",
       "      <td>False</td>\n",
       "      <td>False</td>\n",
       "      <td>False</td>\n",
       "      <td>False</td>\n",
       "    </tr>\n",
       "    <tr>\n",
       "      <th>6670</th>\n",
       "      <td>False</td>\n",
       "      <td>False</td>\n",
       "      <td>False</td>\n",
       "      <td>False</td>\n",
       "      <td>False</td>\n",
       "      <td>False</td>\n",
       "      <td>False</td>\n",
       "      <td>False</td>\n",
       "      <td>False</td>\n",
       "      <td>False</td>\n",
       "      <td>...</td>\n",
       "      <td>False</td>\n",
       "      <td>False</td>\n",
       "      <td>False</td>\n",
       "      <td>False</td>\n",
       "      <td>False</td>\n",
       "      <td>False</td>\n",
       "      <td>False</td>\n",
       "      <td>False</td>\n",
       "      <td>False</td>\n",
       "      <td>False</td>\n",
       "    </tr>\n",
       "    <tr>\n",
       "      <th>6754</th>\n",
       "      <td>False</td>\n",
       "      <td>False</td>\n",
       "      <td>False</td>\n",
       "      <td>False</td>\n",
       "      <td>False</td>\n",
       "      <td>False</td>\n",
       "      <td>False</td>\n",
       "      <td>False</td>\n",
       "      <td>False</td>\n",
       "      <td>False</td>\n",
       "      <td>...</td>\n",
       "      <td>False</td>\n",
       "      <td>False</td>\n",
       "      <td>False</td>\n",
       "      <td>False</td>\n",
       "      <td>False</td>\n",
       "      <td>False</td>\n",
       "      <td>False</td>\n",
       "      <td>False</td>\n",
       "      <td>False</td>\n",
       "      <td>False</td>\n",
       "    </tr>\n",
       "  </tbody>\n",
       "</table>\n",
       "<p>11 rows × 21 columns</p>\n",
       "</div>"
      ],
      "text/plain": [
       "      customerID  gender  SeniorCitizen  Partner  Dependents  tenure  \\\n",
       "488        False   False          False    False       False   False   \n",
       "753        False   False          False    False       False   False   \n",
       "936        False   False          False    False       False   False   \n",
       "1082       False   False          False    False       False   False   \n",
       "1340       False   False          False    False       False   False   \n",
       "3331       False   False          False    False       False   False   \n",
       "3826       False   False          False    False       False   False   \n",
       "4380       False   False          False    False       False   False   \n",
       "5218       False   False          False    False       False   False   \n",
       "6670       False   False          False    False       False   False   \n",
       "6754       False   False          False    False       False   False   \n",
       "\n",
       "      PhoneService  MultipleLines  InternetService  OnlineSecurity  ...  \\\n",
       "488          False          False            False           False  ...   \n",
       "753          False          False            False           False  ...   \n",
       "936          False          False            False           False  ...   \n",
       "1082         False          False            False           False  ...   \n",
       "1340         False          False            False           False  ...   \n",
       "3331         False          False            False           False  ...   \n",
       "3826         False          False            False           False  ...   \n",
       "4380         False          False            False           False  ...   \n",
       "5218         False          False            False           False  ...   \n",
       "6670         False          False            False           False  ...   \n",
       "6754         False          False            False           False  ...   \n",
       "\n",
       "      DeviceProtection  TechSupport  StreamingTV  StreamingMovies  Contract  \\\n",
       "488              False        False        False            False     False   \n",
       "753              False        False        False            False     False   \n",
       "936              False        False        False            False     False   \n",
       "1082             False        False        False            False     False   \n",
       "1340             False        False        False            False     False   \n",
       "3331             False        False        False            False     False   \n",
       "3826             False        False        False            False     False   \n",
       "4380             False        False        False            False     False   \n",
       "5218             False        False        False            False     False   \n",
       "6670             False        False        False            False     False   \n",
       "6754             False        False        False            False     False   \n",
       "\n",
       "      PaperlessBilling  PaymentMethod  MonthlyCharges  TotalCharges  Churn  \n",
       "488              False          False           False         False  False  \n",
       "753              False          False           False         False  False  \n",
       "936              False          False           False         False  False  \n",
       "1082             False          False           False         False  False  \n",
       "1340             False          False           False         False  False  \n",
       "3331             False          False           False         False  False  \n",
       "3826             False          False           False         False  False  \n",
       "4380             False          False           False         False  False  \n",
       "5218             False          False           False         False  False  \n",
       "6670             False          False           False         False  False  \n",
       "6754             False          False           False         False  False  \n",
       "\n",
       "[11 rows x 21 columns]"
      ]
     },
     "execution_count": 11,
     "metadata": {},
     "output_type": "execute_result"
    }
   ],
   "source": [
    "churn['TotalCharges'] = pd.to_numeric(churn['TotalCharges'], errors='coerce')\n",
    "meancharges = churn['TotalCharges'].mean()\n",
    "churn[churn['TotalCharges'].isnull()] == meancharges"
   ]
  },
  {
   "cell_type": "code",
   "execution_count": 12,
   "id": "53de5efa-4b8a-4437-bbf7-bf510631411c",
   "metadata": {},
   "outputs": [
    {
     "data": {
      "image/png": "[encoded data removed]",
      "text/plain": [
       "<Figure size 576x432 with 1 Axes>"
      ]
     },
     "metadata": {},
     "output_type": "display_data"
    }
   ],
   "source": [
    "had_churn = churn.loc[(churn['Churn'] == 1)]\n",
    "y = had_churn.Contract.value_counts(normalize=True)\n",
    "l_list = y.index.tolist()\n",
    "c = [\"#F7CDE5\",\"#D6F7CD\", \"#F7F5CD\"]\n",
    "plt.figure(figsize=(8,6))\n",
    "e = [0.2,0.2,0.2]\n",
    "plt.pie(y, labels = l_list, textprops=dict(color=\"w\"),colors = c, explode = e, autopct='%.0f%%')\n",
    "\n",
    "plt.legend(title = \"Contract\", loc=\"upper right\")\n",
    "plt.show()"
   ]
  },
  {
   "cell_type": "code",
   "execution_count": 13,
   "id": "7aec816d-0010-42c7-bfb2-c6d98a28ca2a",
   "metadata": {},
   "outputs": [
    {
     "data": {
      "image/png": "[encoded data removed]",
      "text/plain": [
       "<Figure size 432x576 with 1 Axes>"
      ]
     },
     "metadata": {},
     "output_type": "display_data"
    }
   ],
   "source": [
    "churn['AutoPaymentMethod'] = None\n",
    "churn.loc[(churn['PaymentMethod'].str.contains(\"automatic\", case=False)),'AutoPaymentMethod'] = \"automatic\"\n",
    "churn.AutoPaymentMethod = (churn.AutoPaymentMethod == 'automatic').astype('int')\n",
    "had_churn = churn.loc[(churn['Churn'] == 1)]\n",
    "y = had_churn.AutoPaymentMethod.value_counts(normalize=True)\n",
    "l_list = y.index.tolist()\n",
    "c = [\"#F7F5CD\",\"#D6F7CD\"]\n",
    "plt.figure(figsize=(6,8))\n",
    "e = [0.1,0.1,]\n",
    "plt.pie(y, labels = l_list, textprops=dict(color=\"w\"),colors = c, explode = e, autopct='%.0f%%')\n",
    "\n",
    "plt.legend(title = \"AutoPaymentMethod\", loc=\"upper right\")\n",
    "plt.show()"
   ]
  },
  {
   "cell_type": "code",
   "execution_count": 14,
   "id": "f7c50c95-f56a-4e34-b86d-81ab1da8c467",
   "metadata": {},
   "outputs": [],
   "source": [
    "churn['AutoPaymentMethod'] = None\n",
    "churn.loc[(churn['PaymentMethod'].str.contains(\"automatic\", case=False)),'AutoPaymentMethod'] = \"automatic\"\n",
    "churn.AutoPaymentMethod = (churn.AutoPaymentMethod == 'automatic').astype('int')"
   ]
  },
  {
   "cell_type": "code",
   "execution_count": 15,
   "id": "ec91288a-2902-4e56-94dc-bf9f2c5cf4c0",
   "metadata": {},
   "outputs": [
    {
     "data": {
      "text/plain": [
       "count    7043.000000\n",
       "mean       64.761692\n",
       "std        30.090047\n",
       "min        18.250000\n",
       "25%        35.500000\n",
       "50%        70.350000\n",
       "75%        89.850000\n",
       "max       118.750000\n",
       "Name: MonthlyCharges, dtype: float64"
      ]
     },
     "execution_count": 15,
     "metadata": {},
     "output_type": "execute_result"
    }
   ],
   "source": [
    "churn['MonthlyCharges'].describe()"
   ]
  },
  {
   "cell_type": "code",
   "execution_count": 16,
   "id": "2f865567-c696-4afb-8234-6d76f11e7bac",
   "metadata": {},
   "outputs": [
    {
     "data": {
      "image/png": "[encoded data removed]",
      "text/plain": [
       "<Figure size 432x288 with 1 Axes>"
      ]
     },
     "metadata": {
      "needs_background": "light"
     },
     "output_type": "display_data"
    }
   ],
   "source": [
    "plt.hist(churn['tenure'], color= '#F8CCE8')\n",
    "plt.xlabel(\"Number of month customer has stayed\")\n",
    "plt.ylabel(\"Number of customers\")\n",
    "plt.title(\"Tenure\")\n",
    "plt.show()"
   ]
  },
  {
   "cell_type": "code",
   "execution_count": 17,
   "id": "a21c005b-e1c4-4314-8b3c-3db5acc70d3a",
   "metadata": {},
   "outputs": [
    {
     "data": {
      "image/png": "[encoded data removed]",
      "text/plain": [
       "<Figure size 432x288 with 1 Axes>"
      ]
     },
     "metadata": {
      "needs_background": "light"
     },
     "output_type": "display_data"
    }
   ],
   "source": [
    "churn['TenureGroup'] = None\n",
    "churn.loc[(churn['tenure'] < 10),'TenureGroup'] = 'New Cust'\n",
    "churn.loc[(churn['tenure'] >= 10) & (churn['tenure'] < 65),'TenureGroup'] = 'Avg Term'\n",
    "churn.loc[(churn['tenure'] >= 65),'TenureGroup'] = 'Long Term'\n",
    "curn_by_TenureGroup_rates = churn.groupby('TenureGroup').Churn.mean()\n",
    "\n",
    "\n",
    "TenureGroup_distribution = churn.TenureGroup.value_counts(normalize=True).sort_index()\n",
    "TenureGroup_stats = pd.DataFrame({'curn_rate':curn_by_TenureGroup_rates,'TenureGroup_dist':TenureGroup_distribution})\n",
    "# TenureGroup_stats.index = TenureGroup_stats.index.map({1:'New', 2:'Middle', 3:'Old'})\n",
    "TenureGroup_stats.sort_index(axis=1)\n",
    "\n",
    "\n",
    "\n",
    "c = (\"#FC7CCD\", \"#FCB9E3\")\n",
    "TenureGroup_stats_sorted = TenureGroup_stats.sort_values(by=['curn_rate', 'TenureGroup_dist'])\n",
    "# TenureGroup_stats.plot(kind='bar',sorted(df_sorted), color = c)\n",
    "TenureGroup_stats_sorted.plot(kind='bar', color = c)\n",
    "plt.xlabel('Tenure Group')\n",
    "plt.ylabel('Distribution')\n",
    "plt.ylim(0, 1)\n",
    "plt.title('Churn rate by Tenure Group');"
   ]
  },
  {
   "cell_type": "code",
   "execution_count": 18,
   "id": "24db9341-0dc4-43fd-b6c9-f2e633152aa7",
   "metadata": {},
   "outputs": [
    {
     "data": {
      "image/png": "[encoded data removed]",
      "text/plain": [
       "<Figure size 432x288 with 1 Axes>"
      ]
     },
     "metadata": {
      "needs_background": "light"
     },
     "output_type": "display_data"
    }
   ],
   "source": [
    "plt.hist(churn['MonthlyCharges'], color= '#F5F6BF')\n",
    "plt.show()"
   ]
  },
  {
   "cell_type": "code",
   "execution_count": 19,
   "id": "dd69d254-ce02-4a88-bb94-68616fffa2f9",
   "metadata": {},
   "outputs": [
    {
     "data": {
      "image/png": "[encoded data removed]",
      "text/plain": [
       "<Figure size 432x288 with 1 Axes>"
      ]
     },
     "metadata": {
      "needs_background": "light"
     },
     "output_type": "display_data"
    }
   ],
   "source": [
    "churn['MonthChargesGroup'] = None\n",
    "churn.loc[(churn['MonthlyCharges'] < 40),'MonthChargesGroup'] = 'LowMPay'\n",
    "churn.loc[(churn['MonthlyCharges'] >= 40) & (churn['MonthlyCharges'] < 80),'MonthChargesGroup'] = 'RegMPay'\n",
    "churn.loc[(churn['MonthlyCharges'] >= 80),'MonthChargesGroup'] = 'HighMPay'\n",
    "curn_by_MonthChargesGroup_rates = churn.groupby('MonthChargesGroup').Churn.mean()\n",
    "MonthChargesGroup_distribution = churn.MonthChargesGroup.value_counts(normalize=True).sort_index()\n",
    "MonthChargesGroup_stats = pd.DataFrame({'curn_rate':curn_by_MonthChargesGroup_rates,'MonthChargesGroup_dist':MonthChargesGroup_distribution})\n",
    "\n",
    "\n",
    "c = (\"#F5EDCA\", \"#F8E8A6\")\n",
    "MonthChargesGroup_stats_sorted = MonthChargesGroup_stats.sort_values(by=['curn_rate', 'MonthChargesGroup_dist'])\n",
    "\n",
    "MonthChargesGroup_stats_sorted.plot(kind='bar', color = c)\n",
    "plt.xlabel('Monthly Charges Group')\n",
    "plt.ylabel('Distribution')\n",
    "plt.ylim(0, 1)\n",
    "plt.title('Churn rate by Monthly Charges Group');"
   ]
  },
  {
   "cell_type": "code",
   "execution_count": 20,
   "id": "94efb94b-3fcd-4b29-9931-272c8ceb9cf2",
   "metadata": {},
   "outputs": [
    {
     "data": {
      "image/png": "[encoded data removed]",
      "text/plain": [
       "<Figure size 432x288 with 1 Axes>"
      ]
     },
     "metadata": {
      "needs_background": "light"
     },
     "output_type": "display_data"
    }
   ],
   "source": [
    "plt.hist(churn['TotalCharges'], color= '#F6BFF3')\n",
    "plt.show()"
   ]
  },
  {
   "cell_type": "code",
   "execution_count": 21,
   "id": "50db8bce-2271-4fac-98c1-4249ab57a913",
   "metadata": {},
   "outputs": [
    {
     "data": {
      "image/png": "[encoded data removed]",
      "text/plain": [
       "<Figure size 432x288 with 1 Axes>"
      ]
     },
     "metadata": {
      "needs_background": "light"
     },
     "output_type": "display_data"
    }
   ],
   "source": [
    "churn['TotalChargesGroup'] = None\n",
    "churn.loc[(churn['TotalCharges'] < 2000),'TotalChargesGroup'] = 'LowCharges'\n",
    "churn.loc[(churn['TotalCharges'] >= 2000),'TotalChargesGroup'] = 'HighCharges'\n",
    "curn_by_TotalChargesGroup_rates = churn.groupby('TotalChargesGroup').Churn.mean()\n",
    "TotalChargesGroup_distribution = churn.TotalChargesGroup.value_counts(normalize=True).sort_index()\n",
    "TotalChargesGroup_stats = pd.DataFrame({'curn_rate':curn_by_TotalChargesGroup_rates,'TotalChargesGroup_dist':TotalChargesGroup_distribution})\n",
    "\n",
    "\n",
    "c = (\"#F5D4F5\", \"#F5A7F5\")\n",
    "TotalChargesGroup_stats_sorted = TotalChargesGroup_stats.sort_values(by=['curn_rate', 'TotalChargesGroup_dist'])\n",
    "\n",
    "TotalChargesGroup_stats_sorted.plot(kind='bar', color = c)\n",
    "plt.xlabel('Total Charges Group')\n",
    "plt.ylabel('Distribution')\n",
    "plt.ylim(0, 1)\n",
    "plt.title('Churn rate by Total Charges Group');\n"
   ]
  },
  {
   "cell_type": "code",
   "execution_count": 22,
   "id": "99990723-cd30-4a97-a3b2-b598d1176689",
   "metadata": {},
   "outputs": [],
   "source": [
    "tenure_churn = pd.get_dummies(churn['TenureGroup'])\n",
    "churn = pd.merge(churn, tenure_churn, left_index=True, right_index=True)\n",
    "TotalCharges_churn = pd.get_dummies(churn['TotalChargesGroup'])\n",
    "churn = pd.merge(churn, TotalCharges_churn, left_index=True, right_index=True)\n",
    "Contract_churn = pd.get_dummies(churn['Contract'])\n",
    "churn = pd.merge(churn, Contract_churn, left_index=True, right_index=True)\n",
    "tenure_churn = pd.get_dummies(churn['gender'])\n",
    "churn = pd.merge(churn, tenure_churn, left_index=True, right_index=True)"
   ]
  },
  {
   "cell_type": "code",
   "execution_count": 23,
   "id": "ab79f3fa-f4b9-404f-9744-efe12f1cae9f",
   "metadata": {},
   "outputs": [
    {
     "data": {
      "text/plain": [
       "(7043, 35)"
      ]
     },
     "execution_count": 23,
     "metadata": {},
     "output_type": "execute_result"
    }
   ],
   "source": [
    "churn.shape"
   ]
  },
  {
   "cell_type": "code",
   "execution_count": 24,
   "id": "52265b95-59ca-4a0b-9cc5-01bca934c258",
   "metadata": {},
   "outputs": [
    {
     "data": {
      "image/png": "[encoded data removed]",
      "text/plain": [
       "<Figure size 720x360 with 1 Axes>"
      ]
     },
     "metadata": {
      "needs_background": "light"
     },
     "output_type": "display_data"
    }
   ],
   "source": [
    "corr_plots(churn)"
   ]
  },
  {
   "cell_type": "code",
   "execution_count": 25,
   "id": "8d9e33af-5f96-4694-9b61-e67b47dd7e93",
   "metadata": {},
   "outputs": [],
   "source": [
    "churn = churn.drop(['Male','Female','tenure','MonthlyCharges', 'TotalCharges','TotalChargesGroup','MonthChargesGroup',], axis=1) \n",
    "churn = churn.drop(['PhoneService','MultipleLines','TenureGroup','Contract',\n",
    "                    'OnlineBackup','DeviceProtection','StreamingTV','PaymentMethod','gender','StreamingMovies'], axis=1) "
   ]
  },
  {
   "cell_type": "code",
   "execution_count": 26,
   "id": "9d0e39bc-de1f-44c8-98f3-16d3e91155dd",
   "metadata": {},
   "outputs": [
    {
     "data": {
      "text/plain": [
       "(7043, 18)"
      ]
     },
     "execution_count": 26,
     "metadata": {},
     "output_type": "execute_result"
    }
   ],
   "source": [
    "churn.shape"
   ]
  },
  {
   "cell_type": "code",
   "execution_count": 27,
   "id": "8464d078-b4e4-4f6e-b512-1da4e69ba7c3",
   "metadata": {},
   "outputs": [],
   "source": [
    "customers_churn = churn[\"customerID\"]\n",
    "drop_customers_churn = churn.drop([\"customerID\"], axis=1)\n",
    "drop_customers_churn = pd.get_dummies(drop_customers_churn)\n",
    "churn = pd.merge(customers_churn, drop_customers_churn, left_index=True, right_index=True)"
   ]
  },
  {
   "cell_type": "code",
   "execution_count": 28,
   "id": "0e5e4f65-61be-4174-ac64-3565ff725b7a",
   "metadata": {},
   "outputs": [
    {
     "data": {
      "text/plain": [
       "(7043, 20)"
      ]
     },
     "execution_count": 28,
     "metadata": {},
     "output_type": "execute_result"
    }
   ],
   "source": [
    "churn.shape"
   ]
  },
  {
   "cell_type": "code",
   "execution_count": 29,
   "id": "091faf8f-6d1d-4043-825e-e75d6d7397a7",
   "metadata": {},
   "outputs": [
    {
     "data": {
      "image/png": "[encoded data removed]",
      "text/plain": [
       "<Figure size 720x360 with 1 Axes>"
      ]
     },
     "metadata": {
      "needs_background": "light"
     },
     "output_type": "display_data"
    }
   ],
   "source": [
    "corr_plots(churn)"
   ]
  },
  {
   "cell_type": "code",
   "execution_count": 30,
   "id": "f9bdbafe-00fc-428d-b1e9-0b965b67a214",
   "metadata": {},
   "outputs": [
    {
     "data": {
      "text/plain": [
       "(7043, 20)"
      ]
     },
     "execution_count": 30,
     "metadata": {},
     "output_type": "execute_result"
    }
   ],
   "source": [
    "churn.shape"
   ]
  },
  {
   "cell_type": "code",
   "execution_count": 31,
   "id": "79197068-4c23-461e-9bb5-3b206576acb5",
   "metadata": {},
   "outputs": [
    {
     "data": {
      "text/plain": [
       "<AxesSubplot:>"
      ]
     },
     "execution_count": 31,
     "metadata": {},
     "output_type": "execute_result"
    },
    {
     "data": {
      "image/png": "[encoded data removed]",
      "text/plain": [
       "<Figure size 432x288 with 2 Axes>"
      ]
     },
     "metadata": {
      "needs_background": "light"
     },
     "output_type": "display_data"
    }
   ],
   "source": [
    "sns.heatmap(churn.corr())"
   ]
  },
  {
   "cell_type": "code",
   "execution_count": 32,
   "id": "6cdf04d3-967e-4ade-839e-5540297d770d",
   "metadata": {},
   "outputs": [
    {
     "data": {
      "text/html": [
       "<div>\n",
       "<style scoped>\n",
       "    .dataframe tbody tr th:only-of-type {\n",
       "        vertical-align: middle;\n",
       "    }\n",
       "\n",
       "    .dataframe tbody tr th {\n",
       "        vertical-align: top;\n",
       "    }\n",
       "\n",
       "    .dataframe thead th {\n",
       "        text-align: right;\n",
       "    }\n",
       "</style>\n",
       "<table border=\"1\" class=\"dataframe\">\n",
       "  <thead>\n",
       "    <tr style=\"text-align: right;\">\n",
       "      <th></th>\n",
       "      <th>customerID</th>\n",
       "      <th>SeniorCitizen</th>\n",
       "      <th>Partner</th>\n",
       "      <th>Dependents</th>\n",
       "      <th>OnlineSecurity</th>\n",
       "      <th>TechSupport</th>\n",
       "      <th>PaperlessBilling</th>\n",
       "      <th>Churn</th>\n",
       "      <th>AutoPaymentMethod</th>\n",
       "      <th>Avg Term</th>\n",
       "      <th>Long Term</th>\n",
       "      <th>New Cust</th>\n",
       "      <th>HighCharges</th>\n",
       "      <th>LowCharges</th>\n",
       "      <th>Month-to-month</th>\n",
       "      <th>One year</th>\n",
       "      <th>Two year</th>\n",
       "      <th>InternetService_DSL</th>\n",
       "      <th>InternetService_Fiber optic</th>\n",
       "      <th>InternetService_No</th>\n",
       "    </tr>\n",
       "  </thead>\n",
       "  <tbody>\n",
       "    <tr>\n",
       "      <th>0</th>\n",
       "      <td>7590-VHVEG</td>\n",
       "      <td>0</td>\n",
       "      <td>1</td>\n",
       "      <td>0</td>\n",
       "      <td>0</td>\n",
       "      <td>0</td>\n",
       "      <td>1</td>\n",
       "      <td>0</td>\n",
       "      <td>0</td>\n",
       "      <td>0</td>\n",
       "      <td>0</td>\n",
       "      <td>1</td>\n",
       "      <td>0</td>\n",
       "      <td>1</td>\n",
       "      <td>1</td>\n",
       "      <td>0</td>\n",
       "      <td>0</td>\n",
       "      <td>1</td>\n",
       "      <td>0</td>\n",
       "      <td>0</td>\n",
       "    </tr>\n",
       "    <tr>\n",
       "      <th>1</th>\n",
       "      <td>5575-GNVDE</td>\n",
       "      <td>0</td>\n",
       "      <td>0</td>\n",
       "      <td>0</td>\n",
       "      <td>1</td>\n",
       "      <td>0</td>\n",
       "      <td>0</td>\n",
       "      <td>0</td>\n",
       "      <td>0</td>\n",
       "      <td>1</td>\n",
       "      <td>0</td>\n",
       "      <td>0</td>\n",
       "      <td>0</td>\n",
       "      <td>1</td>\n",
       "      <td>0</td>\n",
       "      <td>1</td>\n",
       "      <td>0</td>\n",
       "      <td>1</td>\n",
       "      <td>0</td>\n",
       "      <td>0</td>\n",
       "    </tr>\n",
       "    <tr>\n",
       "      <th>2</th>\n",
       "      <td>3668-QPYBK</td>\n",
       "      <td>0</td>\n",
       "      <td>0</td>\n",
       "      <td>0</td>\n",
       "      <td>1</td>\n",
       "      <td>0</td>\n",
       "      <td>1</td>\n",
       "      <td>1</td>\n",
       "      <td>0</td>\n",
       "      <td>0</td>\n",
       "      <td>0</td>\n",
       "      <td>1</td>\n",
       "      <td>0</td>\n",
       "      <td>1</td>\n",
       "      <td>1</td>\n",
       "      <td>0</td>\n",
       "      <td>0</td>\n",
       "      <td>1</td>\n",
       "      <td>0</td>\n",
       "      <td>0</td>\n",
       "    </tr>\n",
       "    <tr>\n",
       "      <th>3</th>\n",
       "      <td>7795-CFOCW</td>\n",
       "      <td>0</td>\n",
       "      <td>0</td>\n",
       "      <td>0</td>\n",
       "      <td>1</td>\n",
       "      <td>1</td>\n",
       "      <td>0</td>\n",
       "      <td>0</td>\n",
       "      <td>1</td>\n",
       "      <td>1</td>\n",
       "      <td>0</td>\n",
       "      <td>0</td>\n",
       "      <td>0</td>\n",
       "      <td>1</td>\n",
       "      <td>0</td>\n",
       "      <td>1</td>\n",
       "      <td>0</td>\n",
       "      <td>1</td>\n",
       "      <td>0</td>\n",
       "      <td>0</td>\n",
       "    </tr>\n",
       "    <tr>\n",
       "      <th>4</th>\n",
       "      <td>9237-HQITU</td>\n",
       "      <td>0</td>\n",
       "      <td>0</td>\n",
       "      <td>0</td>\n",
       "      <td>0</td>\n",
       "      <td>0</td>\n",
       "      <td>1</td>\n",
       "      <td>1</td>\n",
       "      <td>0</td>\n",
       "      <td>0</td>\n",
       "      <td>0</td>\n",
       "      <td>1</td>\n",
       "      <td>0</td>\n",
       "      <td>1</td>\n",
       "      <td>1</td>\n",
       "      <td>0</td>\n",
       "      <td>0</td>\n",
       "      <td>0</td>\n",
       "      <td>1</td>\n",
       "      <td>0</td>\n",
       "    </tr>\n",
       "  </tbody>\n",
       "</table>\n",
       "</div>"
      ],
      "text/plain": [
       "   customerID  SeniorCitizen  Partner  Dependents  OnlineSecurity  \\\n",
       "0  7590-VHVEG              0        1           0               0   \n",
       "1  5575-GNVDE              0        0           0               1   \n",
       "2  3668-QPYBK              0        0           0               1   \n",
       "3  7795-CFOCW              0        0           0               1   \n",
       "4  9237-HQITU              0        0           0               0   \n",
       "\n",
       "   TechSupport  PaperlessBilling  Churn  AutoPaymentMethod  Avg Term  \\\n",
       "0            0                 1      0                  0         0   \n",
       "1            0                 0      0                  0         1   \n",
       "2            0                 1      1                  0         0   \n",
       "3            1                 0      0                  1         1   \n",
       "4            0                 1      1                  0         0   \n",
       "\n",
       "   Long Term  New Cust  HighCharges  LowCharges  Month-to-month  One year  \\\n",
       "0          0         1            0           1               1         0   \n",
       "1          0         0            0           1               0         1   \n",
       "2          0         1            0           1               1         0   \n",
       "3          0         0            0           1               0         1   \n",
       "4          0         1            0           1               1         0   \n",
       "\n",
       "   Two year  InternetService_DSL  InternetService_Fiber optic  \\\n",
       "0         0                    1                            0   \n",
       "1         0                    1                            0   \n",
       "2         0                    1                            0   \n",
       "3         0                    1                            0   \n",
       "4         0                    0                            1   \n",
       "\n",
       "   InternetService_No  \n",
       "0                   0  \n",
       "1                   0  \n",
       "2                   0  \n",
       "3                   0  \n",
       "4                   0  "
      ]
     },
     "execution_count": 32,
     "metadata": {},
     "output_type": "execute_result"
    }
   ],
   "source": [
    "churn.head()\n"
   ]
  },
  {
   "cell_type": "code",
   "execution_count": 33,
   "id": "6883de0e-39a1-4d0f-af42-2e9b315736b7",
   "metadata": {},
   "outputs": [],
   "source": [
    "from sklearn.model_selection import train_test_split\n",
    "\n",
    "test_size = int(len(churn) * 0.2)\n",
    "train, test = train_test_split(churn, test_size=test_size, random_state=0, shuffle=True)\n",
    "\n",
    "label = \"Churn\"\n",
    "customerid = \"customerID\"\n",
    "\n",
    "x_train = train.drop(label, axis=1)\n",
    "x_train = x_train.drop(customerid, axis=1) \n",
    "y_train = train[label]\n",
    "customer_train = train[customerid] \n",
    "\n",
    "x_test = test.drop(label, axis=1)\n",
    "x_test = x_test.drop(customerid, axis=1) \n",
    "y_test = test[label]\n",
    "customer_test = test[customerid] \n"
   ]
  },
  {
   "cell_type": "markdown",
   "id": "3fad63b0-1e11-49e4-8cb3-0517a106d2fd",
   "metadata": {},
   "source": [
    "# Decision Tree"
   ]
  },
  {
   "cell_type": "code",
   "execution_count": 69,
   "id": "7b49a724-ebfd-4895-8627-e18ab6c8baa0",
   "metadata": {},
   "outputs": [],
   "source": [
    "from sklearn.tree import DecisionTreeClassifier\n",
    "\n",
    "clf = DecisionTreeClassifier(max_depth=3)\n",
    "clf.fit(x_train, y_train)\n",
    "y_test_pred_decision_tree = clf.predict(x_test)\n",
    "\n",
    "output = pd.DataFrame({'customerid': customer_test, 'actual_churn':y_test, 'predicted_churn': y_test_pred_decision_tree}) \n",
    "output.to_csv('my_DecisionTree_Prediction.csv', index=False) "
   ]
  },
  {
   "cell_type": "code",
   "execution_count": 70,
   "id": "ebc1caa1-48ef-4ffa-b0bc-8eef8e24de29",
   "metadata": {},
   "outputs": [
    {
     "data": {
      "image/svg+xml": [
       "<svg xmlns=\"http://www.w3.org/2000/svg\" xmlns:xlink=\"http://www.w3.org/1999/xlink\" width=\"1052pt\" height=\"433pt\" viewBox=\"0.00 0.00 1052.00 433.00\">\n",
       "<g id=\"graph0\" class=\"graph\" transform=\"scale(1 1) rotate(0) translate(4 429)\">\n",
       "<title>Tree</title>\n",
       "<polygon fill=\"white\" stroke=\"none\" points=\"-4,4 -4,-429 1048,-429 1048,4 -4,4\"/>\n",
       "<!-- 0 -->\n",
       "<g id=\"node1\" class=\"node\"><title>0</title>\n",
       "<polygon fill=\"#eeaf81\" stroke=\"black\" points=\"583.5,-425 433.5,-425 433.5,-342 583.5,-342 583.5,-425\"/>\n",
       "<text text-anchor=\"middle\" x=\"508.5\" y=\"-409.8\" font-family=\"Times New Roman,serif\" font-size=\"14.00\">Month-to-month &lt;= 0.5</text>\n",
       "<text text-anchor=\"middle\" x=\"508.5\" y=\"-394.8\" font-family=\"Times New Roman,serif\" font-size=\"14.00\">gini = 0.391</text>\n",
       "<text text-anchor=\"middle\" x=\"508.5\" y=\"-379.8\" font-family=\"Times New Roman,serif\" font-size=\"14.00\">samples = 5635</text>\n",
       "<text text-anchor=\"middle\" x=\"508.5\" y=\"-364.8\" font-family=\"Times New Roman,serif\" font-size=\"14.00\">value = [4134, 1501]</text>\n",
       "<text text-anchor=\"middle\" x=\"508.5\" y=\"-349.8\" font-family=\"Times New Roman,serif\" font-size=\"14.00\">class = Churn</text>\n",
       "</g>\n",
       "<!-- 1 -->\n",
       "<g id=\"node2\" class=\"node\"><title>1</title>\n",
       "<polygon fill=\"#e78a46\" stroke=\"black\" points=\"493.5,-306 283.5,-306 283.5,-223 493.5,-223 493.5,-306\"/>\n",
       "<text text-anchor=\"middle\" x=\"388.5\" y=\"-290.8\" font-family=\"Times New Roman,serif\" font-size=\"14.00\">InternetService_Fiber optic &lt;= 0.5</text>\n",
       "<text text-anchor=\"middle\" x=\"388.5\" y=\"-275.8\" font-family=\"Times New Roman,serif\" font-size=\"14.00\">gini = 0.119</text>\n",
       "<text text-anchor=\"middle\" x=\"388.5\" y=\"-260.8\" font-family=\"Times New Roman,serif\" font-size=\"14.00\">samples = 2521</text>\n",
       "<text text-anchor=\"middle\" x=\"388.5\" y=\"-245.8\" font-family=\"Times New Roman,serif\" font-size=\"14.00\">value = [2361, 160]</text>\n",
       "<text text-anchor=\"middle\" x=\"388.5\" y=\"-230.8\" font-family=\"Times New Roman,serif\" font-size=\"14.00\">class = Churn</text>\n",
       "</g>\n",
       "<!-- 0&#45;&gt;1 -->\n",
       "<g id=\"edge1\" class=\"edge\"><title>0-&gt;1</title>\n",
       "<path fill=\"none\" stroke=\"black\" d=\"M466.867,-341.907C457.373,-332.651 447.2,-322.732 437.432,-313.209\"/>\n",
       "<polygon fill=\"black\" stroke=\"black\" points=\"439.663,-310.496 430.06,-306.021 434.776,-315.508 439.663,-310.496\"/>\n",
       "<text text-anchor=\"middle\" x=\"430.376\" y=\"-327.319\" font-family=\"Times New Roman,serif\" font-size=\"14.00\">True</text>\n",
       "</g>\n",
       "<!-- 8 -->\n",
       "<g id=\"node9\" class=\"node\"><title>8</title>\n",
       "<polygon fill=\"#f9e0cf\" stroke=\"black\" points=\"734.5,-306 524.5,-306 524.5,-223 734.5,-223 734.5,-306\"/>\n",
       "<text text-anchor=\"middle\" x=\"629.5\" y=\"-290.8\" font-family=\"Times New Roman,serif\" font-size=\"14.00\">InternetService_Fiber optic &lt;= 0.5</text>\n",
       "<text text-anchor=\"middle\" x=\"629.5\" y=\"-275.8\" font-family=\"Times New Roman,serif\" font-size=\"14.00\">gini = 0.49</text>\n",
       "<text text-anchor=\"middle\" x=\"629.5\" y=\"-260.8\" font-family=\"Times New Roman,serif\" font-size=\"14.00\">samples = 3114</text>\n",
       "<text text-anchor=\"middle\" x=\"629.5\" y=\"-245.8\" font-family=\"Times New Roman,serif\" font-size=\"14.00\">value = [1773, 1341]</text>\n",
       "<text text-anchor=\"middle\" x=\"629.5\" y=\"-230.8\" font-family=\"Times New Roman,serif\" font-size=\"14.00\">class = Churn</text>\n",
       "</g>\n",
       "<!-- 0&#45;&gt;8 -->\n",
       "<g id=\"edge8\" class=\"edge\"><title>0-&gt;8</title>\n",
       "<path fill=\"none\" stroke=\"black\" d=\"M550.48,-341.907C560.053,-332.651 570.311,-322.732 580.16,-313.209\"/>\n",
       "<polygon fill=\"black\" stroke=\"black\" points=\"582.838,-315.488 587.594,-306.021 577.972,-310.456 582.838,-315.488\"/>\n",
       "<text text-anchor=\"middle\" x=\"587.174\" y=\"-327.317\" font-family=\"Times New Roman,serif\" font-size=\"14.00\">False</text>\n",
       "</g>\n",
       "<!-- 2 -->\n",
       "<g id=\"node3\" class=\"node\"><title>2</title>\n",
       "<polygon fill=\"#e68540\" stroke=\"black\" points=\"243.5,-187 125.5,-187 125.5,-104 243.5,-104 243.5,-187\"/>\n",
       "<text text-anchor=\"middle\" x=\"184.5\" y=\"-171.8\" font-family=\"Times New Roman,serif\" font-size=\"14.00\">One year &lt;= 0.5</text>\n",
       "<text text-anchor=\"middle\" x=\"184.5\" y=\"-156.8\" font-family=\"Times New Roman,serif\" font-size=\"14.00\">gini = 0.064</text>\n",
       "<text text-anchor=\"middle\" x=\"184.5\" y=\"-141.8\" font-family=\"Times New Roman,serif\" font-size=\"14.00\">samples = 1751</text>\n",
       "<text text-anchor=\"middle\" x=\"184.5\" y=\"-126.8\" font-family=\"Times New Roman,serif\" font-size=\"14.00\">value = [1693, 58]</text>\n",
       "<text text-anchor=\"middle\" x=\"184.5\" y=\"-111.8\" font-family=\"Times New Roman,serif\" font-size=\"14.00\">class = Churn</text>\n",
       "</g>\n",
       "<!-- 1&#45;&gt;2 -->\n",
       "<g id=\"edge2\" class=\"edge\"><title>1-&gt;2</title>\n",
       "<path fill=\"none\" stroke=\"black\" d=\"M317.723,-222.907C296.578,-210.78 273.451,-197.516 252.488,-185.493\"/>\n",
       "<polygon fill=\"black\" stroke=\"black\" points=\"254.065,-182.363 243.649,-180.423 250.582,-188.435 254.065,-182.363\"/>\n",
       "</g>\n",
       "<!-- 5 -->\n",
       "<g id=\"node6\" class=\"node\"><title>5</title>\n",
       "<polygon fill=\"#e99457\" stroke=\"black\" points=\"447.5,-187 329.5,-187 329.5,-104 447.5,-104 447.5,-187\"/>\n",
       "<text text-anchor=\"middle\" x=\"388.5\" y=\"-171.8\" font-family=\"Times New Roman,serif\" font-size=\"14.00\">Two year &lt;= 0.5</text>\n",
       "<text text-anchor=\"middle\" x=\"388.5\" y=\"-156.8\" font-family=\"Times New Roman,serif\" font-size=\"14.00\">gini = 0.23</text>\n",
       "<text text-anchor=\"middle\" x=\"388.5\" y=\"-141.8\" font-family=\"Times New Roman,serif\" font-size=\"14.00\">samples = 770</text>\n",
       "<text text-anchor=\"middle\" x=\"388.5\" y=\"-126.8\" font-family=\"Times New Roman,serif\" font-size=\"14.00\">value = [668, 102]</text>\n",
       "<text text-anchor=\"middle\" x=\"388.5\" y=\"-111.8\" font-family=\"Times New Roman,serif\" font-size=\"14.00\">class = Churn</text>\n",
       "</g>\n",
       "<!-- 1&#45;&gt;5 -->\n",
       "<g id=\"edge5\" class=\"edge\"><title>1-&gt;5</title>\n",
       "<path fill=\"none\" stroke=\"black\" d=\"M388.5,-222.907C388.5,-214.649 388.5,-205.864 388.5,-197.302\"/>\n",
       "<polygon fill=\"black\" stroke=\"black\" points=\"392,-197.021 388.5,-187.021 385,-197.021 392,-197.021\"/>\n",
       "</g>\n",
       "<!-- 3 -->\n",
       "<g id=\"node4\" class=\"node\"><title>3</title>\n",
       "<polygon fill=\"#e5833c\" stroke=\"black\" points=\"111,-68 0,-68 0,-0 111,-0 111,-68\"/>\n",
       "<text text-anchor=\"middle\" x=\"55.5\" y=\"-52.8\" font-family=\"Times New Roman,serif\" font-size=\"14.00\">gini = 0.028</text>\n",
       "<text text-anchor=\"middle\" x=\"55.5\" y=\"-37.8\" font-family=\"Times New Roman,serif\" font-size=\"14.00\">samples = 992</text>\n",
       "<text text-anchor=\"middle\" x=\"55.5\" y=\"-22.8\" font-family=\"Times New Roman,serif\" font-size=\"14.00\">value = [978, 14]</text>\n",
       "<text text-anchor=\"middle\" x=\"55.5\" y=\"-7.8\" font-family=\"Times New Roman,serif\" font-size=\"14.00\">class = Churn</text>\n",
       "</g>\n",
       "<!-- 2&#45;&gt;3 -->\n",
       "<g id=\"edge3\" class=\"edge\"><title>2-&gt;3</title>\n",
       "<path fill=\"none\" stroke=\"black\" d=\"M136.465,-103.726C125.398,-94.3318 113.637,-84.349 102.61,-74.9883\"/>\n",
       "<polygon fill=\"black\" stroke=\"black\" points=\"104.618,-72.1026 94.7297,-68.2996 100.088,-77.4393 104.618,-72.1026\"/>\n",
       "</g>\n",
       "<!-- 4 -->\n",
       "<g id=\"node5\" class=\"node\"><title>4</title>\n",
       "<polygon fill=\"#e78945\" stroke=\"black\" points=\"240,-68 129,-68 129,-0 240,-0 240,-68\"/>\n",
       "<text text-anchor=\"middle\" x=\"184.5\" y=\"-52.8\" font-family=\"Times New Roman,serif\" font-size=\"14.00\">gini = 0.109</text>\n",
       "<text text-anchor=\"middle\" x=\"184.5\" y=\"-37.8\" font-family=\"Times New Roman,serif\" font-size=\"14.00\">samples = 759</text>\n",
       "<text text-anchor=\"middle\" x=\"184.5\" y=\"-22.8\" font-family=\"Times New Roman,serif\" font-size=\"14.00\">value = [715, 44]</text>\n",
       "<text text-anchor=\"middle\" x=\"184.5\" y=\"-7.8\" font-family=\"Times New Roman,serif\" font-size=\"14.00\">class = Churn</text>\n",
       "</g>\n",
       "<!-- 2&#45;&gt;4 -->\n",
       "<g id=\"edge4\" class=\"edge\"><title>2-&gt;4</title>\n",
       "<path fill=\"none\" stroke=\"black\" d=\"M184.5,-103.726C184.5,-95.5175 184.5,-86.8595 184.5,-78.56\"/>\n",
       "<polygon fill=\"black\" stroke=\"black\" points=\"188,-78.2996 184.5,-68.2996 181,-78.2996 188,-78.2996\"/>\n",
       "</g>\n",
       "<!-- 6 -->\n",
       "<g id=\"node7\" class=\"node\"><title>6</title>\n",
       "<polygon fill=\"#eb9d65\" stroke=\"black\" points=\"369,-68 258,-68 258,-0 369,-0 369,-68\"/>\n",
       "<text text-anchor=\"middle\" x=\"313.5\" y=\"-52.8\" font-family=\"Times New Roman,serif\" font-size=\"14.00\">gini = 0.299</text>\n",
       "<text text-anchor=\"middle\" x=\"313.5\" y=\"-37.8\" font-family=\"Times New Roman,serif\" font-size=\"14.00\">samples = 426</text>\n",
       "<text text-anchor=\"middle\" x=\"313.5\" y=\"-22.8\" font-family=\"Times New Roman,serif\" font-size=\"14.00\">value = [348, 78]</text>\n",
       "<text text-anchor=\"middle\" x=\"313.5\" y=\"-7.8\" font-family=\"Times New Roman,serif\" font-size=\"14.00\">class = Churn</text>\n",
       "</g>\n",
       "<!-- 5&#45;&gt;6 -->\n",
       "<g id=\"edge6\" class=\"edge\"><title>5-&gt;6</title>\n",
       "<path fill=\"none\" stroke=\"black\" d=\"M360.573,-103.726C354.513,-94.879 348.096,-85.51 342.014,-76.6303\"/>\n",
       "<polygon fill=\"black\" stroke=\"black\" points=\"344.846,-74.5721 336.308,-68.2996 339.071,-78.5277 344.846,-74.5721\"/>\n",
       "</g>\n",
       "<!-- 7 -->\n",
       "<g id=\"node8\" class=\"node\"><title>7</title>\n",
       "<polygon fill=\"#e78a48\" stroke=\"black\" points=\"498,-68 387,-68 387,-0 498,-0 498,-68\"/>\n",
       "<text text-anchor=\"middle\" x=\"442.5\" y=\"-52.8\" font-family=\"Times New Roman,serif\" font-size=\"14.00\">gini = 0.13</text>\n",
       "<text text-anchor=\"middle\" x=\"442.5\" y=\"-37.8\" font-family=\"Times New Roman,serif\" font-size=\"14.00\">samples = 344</text>\n",
       "<text text-anchor=\"middle\" x=\"442.5\" y=\"-22.8\" font-family=\"Times New Roman,serif\" font-size=\"14.00\">value = [320, 24]</text>\n",
       "<text text-anchor=\"middle\" x=\"442.5\" y=\"-7.8\" font-family=\"Times New Roman,serif\" font-size=\"14.00\">class = Churn</text>\n",
       "</g>\n",
       "<!-- 5&#45;&gt;7 -->\n",
       "<g id=\"edge7\" class=\"edge\"><title>5-&gt;7</title>\n",
       "<path fill=\"none\" stroke=\"black\" d=\"M408.608,-103.726C412.836,-95.1527 417.305,-86.0891 421.563,-77.4555\"/>\n",
       "<polygon fill=\"black\" stroke=\"black\" points=\"424.794,-78.8164 426.078,-68.2996 418.516,-75.7203 424.794,-78.8164\"/>\n",
       "</g>\n",
       "<!-- 9 -->\n",
       "<g id=\"node10\" class=\"node\"><title>9</title>\n",
       "<polygon fill=\"#efb388\" stroke=\"black\" points=\"688.5,-187 570.5,-187 570.5,-104 688.5,-104 688.5,-187\"/>\n",
       "<text text-anchor=\"middle\" x=\"629.5\" y=\"-171.8\" font-family=\"Times New Roman,serif\" font-size=\"14.00\">New Cust &lt;= 0.5</text>\n",
       "<text text-anchor=\"middle\" x=\"629.5\" y=\"-156.8\" font-family=\"Times New Roman,serif\" font-size=\"14.00\">gini = 0.408</text>\n",
       "<text text-anchor=\"middle\" x=\"629.5\" y=\"-141.8\" font-family=\"Times New Roman,serif\" font-size=\"14.00\">samples = 1398</text>\n",
       "<text text-anchor=\"middle\" x=\"629.5\" y=\"-126.8\" font-family=\"Times New Roman,serif\" font-size=\"14.00\">value = [999, 399]</text>\n",
       "<text text-anchor=\"middle\" x=\"629.5\" y=\"-111.8\" font-family=\"Times New Roman,serif\" font-size=\"14.00\">class = Churn</text>\n",
       "</g>\n",
       "<!-- 8&#45;&gt;9 -->\n",
       "<g id=\"edge9\" class=\"edge\"><title>8-&gt;9</title>\n",
       "<path fill=\"none\" stroke=\"black\" d=\"M629.5,-222.907C629.5,-214.649 629.5,-205.864 629.5,-197.302\"/>\n",
       "<polygon fill=\"black\" stroke=\"black\" points=\"633,-197.021 629.5,-187.021 626,-197.021 633,-197.021\"/>\n",
       "</g>\n",
       "<!-- 12 -->\n",
       "<g id=\"node13\" class=\"node\"><title>12</title>\n",
       "<polygon fill=\"#dceefa\" stroke=\"black\" points=\"907,-187 788,-187 788,-104 907,-104 907,-187\"/>\n",
       "<text text-anchor=\"middle\" x=\"847.5\" y=\"-171.8\" font-family=\"Times New Roman,serif\" font-size=\"14.00\">New Cust &lt;= 0.5</text>\n",
       "<text text-anchor=\"middle\" x=\"847.5\" y=\"-156.8\" font-family=\"Times New Roman,serif\" font-size=\"14.00\">gini = 0.495</text>\n",
       "<text text-anchor=\"middle\" x=\"847.5\" y=\"-141.8\" font-family=\"Times New Roman,serif\" font-size=\"14.00\">samples = 1716</text>\n",
       "<text text-anchor=\"middle\" x=\"847.5\" y=\"-126.8\" font-family=\"Times New Roman,serif\" font-size=\"14.00\">value = [774, 942]</text>\n",
       "<text text-anchor=\"middle\" x=\"847.5\" y=\"-111.8\" font-family=\"Times New Roman,serif\" font-size=\"14.00\">class = Not Churn</text>\n",
       "</g>\n",
       "<!-- 8&#45;&gt;12 -->\n",
       "<g id=\"edge12\" class=\"edge\"><title>8-&gt;12</title>\n",
       "<path fill=\"none\" stroke=\"black\" d=\"M705.134,-222.907C729.124,-210.032 755.5,-195.876 778.962,-183.284\"/>\n",
       "<polygon fill=\"black\" stroke=\"black\" points=\"780.644,-186.354 787.8,-178.541 777.334,-180.186 780.644,-186.354\"/>\n",
       "</g>\n",
       "<!-- 10 -->\n",
       "<g id=\"node11\" class=\"node\"><title>10</title>\n",
       "<polygon fill=\"#ea9b63\" stroke=\"black\" points=\"634.5,-68 516.5,-68 516.5,-0 634.5,-0 634.5,-68\"/>\n",
       "<text text-anchor=\"middle\" x=\"575.5\" y=\"-52.8\" font-family=\"Times New Roman,serif\" font-size=\"14.00\">gini = 0.287</text>\n",
       "<text text-anchor=\"middle\" x=\"575.5\" y=\"-37.8\" font-family=\"Times New Roman,serif\" font-size=\"14.00\">samples = 646</text>\n",
       "<text text-anchor=\"middle\" x=\"575.5\" y=\"-22.8\" font-family=\"Times New Roman,serif\" font-size=\"14.00\">value = [534, 112]</text>\n",
       "<text text-anchor=\"middle\" x=\"575.5\" y=\"-7.8\" font-family=\"Times New Roman,serif\" font-size=\"14.00\">class = Churn</text>\n",
       "</g>\n",
       "<!-- 9&#45;&gt;10 -->\n",
       "<g id=\"edge10\" class=\"edge\"><title>9-&gt;10</title>\n",
       "<path fill=\"none\" stroke=\"black\" d=\"M609.392,-103.726C605.164,-95.1527 600.695,-86.0891 596.437,-77.4555\"/>\n",
       "<polygon fill=\"black\" stroke=\"black\" points=\"599.484,-75.7203 591.922,-68.2996 593.206,-78.8164 599.484,-75.7203\"/>\n",
       "</g>\n",
       "<!-- 11 -->\n",
       "<g id=\"node12\" class=\"node\"><title>11</title>\n",
       "<polygon fill=\"#f5cfb3\" stroke=\"black\" points=\"770.5,-68 652.5,-68 652.5,-0 770.5,-0 770.5,-68\"/>\n",
       "<text text-anchor=\"middle\" x=\"711.5\" y=\"-52.8\" font-family=\"Times New Roman,serif\" font-size=\"14.00\">gini = 0.472</text>\n",
       "<text text-anchor=\"middle\" x=\"711.5\" y=\"-37.8\" font-family=\"Times New Roman,serif\" font-size=\"14.00\">samples = 752</text>\n",
       "<text text-anchor=\"middle\" x=\"711.5\" y=\"-22.8\" font-family=\"Times New Roman,serif\" font-size=\"14.00\">value = [465, 287]</text>\n",
       "<text text-anchor=\"middle\" x=\"711.5\" y=\"-7.8\" font-family=\"Times New Roman,serif\" font-size=\"14.00\">class = Churn</text>\n",
       "</g>\n",
       "<!-- 9&#45;&gt;11 -->\n",
       "<g id=\"edge11\" class=\"edge\"><title>9-&gt;11</title>\n",
       "<path fill=\"none\" stroke=\"black\" d=\"M660.034,-103.726C666.727,-94.7878 673.82,-85.3168 680.53,-76.3558\"/>\n",
       "<polygon fill=\"black\" stroke=\"black\" points=\"683.371,-78.402 686.563,-68.2996 677.768,-74.206 683.371,-78.402\"/>\n",
       "</g>\n",
       "<!-- 13 -->\n",
       "<g id=\"node14\" class=\"node\"><title>13</title>\n",
       "<polygon fill=\"#fae6d7\" stroke=\"black\" points=\"906.5,-68 788.5,-68 788.5,-0 906.5,-0 906.5,-68\"/>\n",
       "<text text-anchor=\"middle\" x=\"847.5\" y=\"-52.8\" font-family=\"Times New Roman,serif\" font-size=\"14.00\">gini = 0.494</text>\n",
       "<text text-anchor=\"middle\" x=\"847.5\" y=\"-37.8\" font-family=\"Times New Roman,serif\" font-size=\"14.00\">samples = 1070</text>\n",
       "<text text-anchor=\"middle\" x=\"847.5\" y=\"-22.8\" font-family=\"Times New Roman,serif\" font-size=\"14.00\">value = [595, 475]</text>\n",
       "<text text-anchor=\"middle\" x=\"847.5\" y=\"-7.8\" font-family=\"Times New Roman,serif\" font-size=\"14.00\">class = Churn</text>\n",
       "</g>\n",
       "<!-- 12&#45;&gt;13 -->\n",
       "<g id=\"edge13\" class=\"edge\"><title>12-&gt;13</title>\n",
       "<path fill=\"none\" stroke=\"black\" d=\"M847.5,-103.726C847.5,-95.5175 847.5,-86.8595 847.5,-78.56\"/>\n",
       "<polygon fill=\"black\" stroke=\"black\" points=\"851,-78.2996 847.5,-68.2996 844,-78.2996 851,-78.2996\"/>\n",
       "</g>\n",
       "<!-- 14 -->\n",
       "<g id=\"node15\" class=\"node\"><title>14</title>\n",
       "<polygon fill=\"#85c3ef\" stroke=\"black\" points=\"1044,-68 925,-68 925,-0 1044,-0 1044,-68\"/>\n",
       "<text text-anchor=\"middle\" x=\"984.5\" y=\"-52.8\" font-family=\"Times New Roman,serif\" font-size=\"14.00\">gini = 0.401</text>\n",
       "<text text-anchor=\"middle\" x=\"984.5\" y=\"-37.8\" font-family=\"Times New Roman,serif\" font-size=\"14.00\">samples = 646</text>\n",
       "<text text-anchor=\"middle\" x=\"984.5\" y=\"-22.8\" font-family=\"Times New Roman,serif\" font-size=\"14.00\">value = [179, 467]</text>\n",
       "<text text-anchor=\"middle\" x=\"984.5\" y=\"-7.8\" font-family=\"Times New Roman,serif\" font-size=\"14.00\">class = Not Churn</text>\n",
       "</g>\n",
       "<!-- 12&#45;&gt;14 -->\n",
       "<g id=\"edge14\" class=\"edge\"><title>12-&gt;14</title>\n",
       "<path fill=\"none\" stroke=\"black\" d=\"M898.514,-103.726C910.382,-94.2406 923,-84.1551 934.81,-74.7159\"/>\n",
       "<polygon fill=\"black\" stroke=\"black\" points=\"937.211,-77.2771 942.837,-68.2996 932.841,-71.8091 937.211,-77.2771\"/>\n",
       "</g>\n",
       "</g>\n",
       "</svg>"
      ],
      "text/plain": [
       "<IPython.core.display.SVG object>"
      ]
     },
     "metadata": {},
     "output_type": "display_data"
    }
   ],
   "source": [
    "from sklearn.tree import DecisionTreeClassifier, export_graphviz\n",
    "from IPython.display import SVG\n",
    "from graphviz import Source\n",
    "from IPython.display import display\n",
    "\n",
    "def plot_tree(tree, features, labels):\n",
    "     graph = Source(export_graphviz(tree, feature_names=features, class_names=labels, filled = True))\n",
    "     display(SVG\n",
    "             (graph.pipe(format='svg')))\n",
    "\n",
    "plot_tree(clf, x_train.columns, ['Churn', 'Not Churn'])"
   ]
  },
  {
   "cell_type": "markdown",
   "id": "cdd53bf6-b246-44ca-96b2-07025d06c060",
   "metadata": {},
   "source": [
    "# Random Forest"
   ]
  },
  {
   "cell_type": "code",
   "execution_count": 48,
   "id": "1f7f4be0-15c5-47ee-8f15-470d3891495b",
   "metadata": {},
   "outputs": [],
   "source": [
    "from sklearn.ensemble import RandomForestClassifier\n",
    "\n",
    "model = RandomForestClassifier(n_estimators=100, max_depth=3, random_state=1)\n",
    "model.fit(x_train, y_train)\n",
    "y_test_pred_random_forest = model.predict(x_test)\n",
    "\n",
    "output = pd.DataFrame({'customersid': customer_test, 'actual_churn':y_test, 'predicted_churn': y_test_pred_random_forest})\n",
    "output.to_csv('my_RandomForest_Prediction.csv', index=False)"
   ]
  },
  {
   "cell_type": "code",
   "execution_count": 36,
   "id": "812bc71e-0b6e-4cc7-927e-c379f76f6a1a",
   "metadata": {},
   "outputs": [
    {
     "data": {
      "text/plain": [
       "array([0.00708108, 0.00131014, 0.00297587, 0.00649371, 0.00668285,\n",
       "       0.02525125, 0.02856278, 0.03441417, 0.02755938, 0.18068647,\n",
       "       0.02276212, 0.02195347, 0.28046699, 0.02744648, 0.09531206,\n",
       "       0.01023352, 0.14738631, 0.07342134])"
      ]
     },
     "execution_count": 36,
     "metadata": {},
     "output_type": "execute_result"
    }
   ],
   "source": [
    "feature_importances = model.feature_importances_ \n",
    "feature_importances"
   ]
  },
  {
   "cell_type": "code",
   "execution_count": 37,
   "id": "38dd17c2-4b86-4c2f-9043-b06a8fef20f8",
   "metadata": {},
   "outputs": [
    {
     "data": {
      "text/html": [
       "<div>\n",
       "<style scoped>\n",
       "    .dataframe tbody tr th:only-of-type {\n",
       "        vertical-align: middle;\n",
       "    }\n",
       "\n",
       "    .dataframe tbody tr th {\n",
       "        vertical-align: top;\n",
       "    }\n",
       "\n",
       "    .dataframe thead th {\n",
       "        text-align: right;\n",
       "    }\n",
       "</style>\n",
       "<table border=\"1\" class=\"dataframe\">\n",
       "  <thead>\n",
       "    <tr style=\"text-align: right;\">\n",
       "      <th></th>\n",
       "      <th>feature</th>\n",
       "      <th>importance</th>\n",
       "    </tr>\n",
       "  </thead>\n",
       "  <tbody>\n",
       "    <tr>\n",
       "      <th>12</th>\n",
       "      <td>Month-to-month</td>\n",
       "      <td>0.280467</td>\n",
       "    </tr>\n",
       "    <tr>\n",
       "      <th>9</th>\n",
       "      <td>New Cust</td>\n",
       "      <td>0.180686</td>\n",
       "    </tr>\n",
       "    <tr>\n",
       "      <th>16</th>\n",
       "      <td>InternetService_Fiber optic</td>\n",
       "      <td>0.147386</td>\n",
       "    </tr>\n",
       "    <tr>\n",
       "      <th>14</th>\n",
       "      <td>Two year</td>\n",
       "      <td>0.095312</td>\n",
       "    </tr>\n",
       "    <tr>\n",
       "      <th>17</th>\n",
       "      <td>InternetService_No</td>\n",
       "      <td>0.073421</td>\n",
       "    </tr>\n",
       "    <tr>\n",
       "      <th>7</th>\n",
       "      <td>Avg Term</td>\n",
       "      <td>0.034414</td>\n",
       "    </tr>\n",
       "    <tr>\n",
       "      <th>6</th>\n",
       "      <td>AutoPaymentMethod</td>\n",
       "      <td>0.028563</td>\n",
       "    </tr>\n",
       "    <tr>\n",
       "      <th>8</th>\n",
       "      <td>Long Term</td>\n",
       "      <td>0.027559</td>\n",
       "    </tr>\n",
       "    <tr>\n",
       "      <th>13</th>\n",
       "      <td>One year</td>\n",
       "      <td>0.027446</td>\n",
       "    </tr>\n",
       "    <tr>\n",
       "      <th>5</th>\n",
       "      <td>PaperlessBilling</td>\n",
       "      <td>0.025251</td>\n",
       "    </tr>\n",
       "    <tr>\n",
       "      <th>10</th>\n",
       "      <td>HighCharges</td>\n",
       "      <td>0.022762</td>\n",
       "    </tr>\n",
       "    <tr>\n",
       "      <th>11</th>\n",
       "      <td>LowCharges</td>\n",
       "      <td>0.021953</td>\n",
       "    </tr>\n",
       "    <tr>\n",
       "      <th>15</th>\n",
       "      <td>InternetService_DSL</td>\n",
       "      <td>0.010234</td>\n",
       "    </tr>\n",
       "    <tr>\n",
       "      <th>0</th>\n",
       "      <td>SeniorCitizen</td>\n",
       "      <td>0.007081</td>\n",
       "    </tr>\n",
       "    <tr>\n",
       "      <th>4</th>\n",
       "      <td>TechSupport</td>\n",
       "      <td>0.006683</td>\n",
       "    </tr>\n",
       "    <tr>\n",
       "      <th>3</th>\n",
       "      <td>OnlineSecurity</td>\n",
       "      <td>0.006494</td>\n",
       "    </tr>\n",
       "    <tr>\n",
       "      <th>2</th>\n",
       "      <td>Dependents</td>\n",
       "      <td>0.002976</td>\n",
       "    </tr>\n",
       "    <tr>\n",
       "      <th>1</th>\n",
       "      <td>Partner</td>\n",
       "      <td>0.001310</td>\n",
       "    </tr>\n",
       "  </tbody>\n",
       "</table>\n",
       "</div>"
      ],
      "text/plain": [
       "                        feature  importance\n",
       "12               Month-to-month    0.280467\n",
       "9                      New Cust    0.180686\n",
       "16  InternetService_Fiber optic    0.147386\n",
       "14                     Two year    0.095312\n",
       "17           InternetService_No    0.073421\n",
       "7                      Avg Term    0.034414\n",
       "6             AutoPaymentMethod    0.028563\n",
       "8                     Long Term    0.027559\n",
       "13                     One year    0.027446\n",
       "5              PaperlessBilling    0.025251\n",
       "10                  HighCharges    0.022762\n",
       "11                   LowCharges    0.021953\n",
       "15          InternetService_DSL    0.010234\n",
       "0                 SeniorCitizen    0.007081\n",
       "4                   TechSupport    0.006683\n",
       "3                OnlineSecurity    0.006494\n",
       "2                    Dependents    0.002976\n",
       "1                       Partner    0.001310"
      ]
     },
     "execution_count": 37,
     "metadata": {},
     "output_type": "execute_result"
    }
   ],
   "source": [
    "features = x_train.columns\n",
    "stats = pd.DataFrame({'feature':features, 'importance':feature_importances}) \n",
    "stats.sort_values('importance', ascending=False) "
   ]
  },
  {
   "cell_type": "code",
   "execution_count": 38,
   "id": "20f86da2-d38a-4bc2-b25d-f619321e9202",
   "metadata": {},
   "outputs": [
    {
     "data": {
      "image/png": "[encoded data removed]",
      "text/plain": [
       "<Figure size 432x288 with 1 Axes>"
      ]
     },
     "metadata": {
      "needs_background": "light"
     },
     "output_type": "display_data"
    }
   ],
   "source": [
    "stats_sort = stats.sort_values('importance', ascending=True)\n",
    "stats_sort.plot(y='importance', x='feature', kind='bar', color = '#DE2A89')\n",
    "plt.title('Feature Importance of Random Forest');"
   ]
  },
  {
   "cell_type": "markdown",
   "id": "54395774-a295-482c-ba82-b199220aef4d",
   "metadata": {},
   "source": [
    "# K nearest neighbors"
   ]
  },
  {
   "cell_type": "code",
   "execution_count": 39,
   "id": "32450860-faf9-4ccf-9dff-4de5a8dc24e7",
   "metadata": {},
   "outputs": [],
   "source": [
    "from sklearn.neighbors import KNeighborsClassifier \n",
    "clf = KNeighborsClassifier(n_neighbors=3)\n",
    "clf.fit(x_train, y_train)\n",
    "y_test_pred_knn = clf.predict(x_test)\n",
    "\n",
    "output = pd.DataFrame({'passengerid': customer_test, 'actual_churn':y_test, 'predicted_churn': y_test_pred_knn})\n",
    "output.to_csv('my_Knn_Prediction.csv', index=False)"
   ]
  },
  {
   "cell_type": "markdown",
   "id": "a1df60e9-4574-44fd-88a7-211bfd7ee287",
   "metadata": {},
   "source": [
    "# Accuracy - comparison between the 3 algorithms"
   ]
  },
  {
   "cell_type": "code",
   "execution_count": 40,
   "id": "cef68b98-80d7-4215-b87c-0d0deb7477bc",
   "metadata": {},
   "outputs": [],
   "source": [
    "from sklearn.metrics import accuracy_score "
   ]
  },
  {
   "cell_type": "code",
   "execution_count": 41,
   "id": "33a826d1-ba1a-4487-a852-ed8d2da5fc0b",
   "metadata": {},
   "outputs": [
    {
     "data": {
      "text/plain": [
       "0.7705965909090909"
      ]
     },
     "execution_count": 41,
     "metadata": {},
     "output_type": "execute_result"
    }
   ],
   "source": [
    "test_acc = accuracy_score(y_test, y_test_pred_decision_tree)\n",
    "test_acc"
   ]
  },
  {
   "cell_type": "code",
   "execution_count": 42,
   "id": "de022bbe-8279-4138-ae31-10352c0d2fc8",
   "metadata": {},
   "outputs": [
    {
     "data": {
      "text/plain": [
       "0.7705965909090909"
      ]
     },
     "execution_count": 42,
     "metadata": {},
     "output_type": "execute_result"
    }
   ],
   "source": [
    "test_acc = accuracy_score(y_test, y_test_pred_random_forest)\n",
    "test_acc"
   ]
  },
  {
   "cell_type": "code",
   "execution_count": 43,
   "id": "9e2796b9-4c43-48db-a305-21ab119a9955",
   "metadata": {},
   "outputs": [
    {
     "data": {
      "text/plain": [
       "0.7485795454545454"
      ]
     },
     "execution_count": 43,
     "metadata": {},
     "output_type": "execute_result"
    }
   ],
   "source": [
    "test_acc = accuracy_score(y_test, y_test_pred_knn)\n",
    "test_acc"
   ]
  },
  {
   "cell_type": "markdown",
   "id": "9a31a383-003a-4eaa-a58c-26581bc73d78",
   "metadata": {},
   "source": [
    "# Overfitting - Decision tree"
   ]
  },
  {
   "cell_type": "code",
   "execution_count": 44,
   "id": "ab573f9a-fb3a-4368-88f7-f3c1e437c7eb",
   "metadata": {},
   "outputs": [
    {
     "data": {
      "text/plain": [
       "0.7705965909090909"
      ]
     },
     "execution_count": 44,
     "metadata": {},
     "output_type": "execute_result"
    }
   ],
   "source": [
    "# Decision Tree -- max_depth = 3\n",
    "\n",
    "clf = DecisionTreeClassifier(max_depth=3)\n",
    "clf.fit(x_train, y_train)\n",
    "y_test_pred_decision_tree = clf.predict(x_test)\n",
    "test_acc = accuracy_score(y_test, y_test_pred_decision_tree)\n",
    "test_acc"
   ]
  },
  {
   "cell_type": "code",
   "execution_count": 45,
   "id": "de6821ca-5abb-4243-bff5-5f2e9f2d7bcb",
   "metadata": {},
   "outputs": [
    {
     "data": {
      "text/plain": [
       "0.7798295454545454"
      ]
     },
     "execution_count": 45,
     "metadata": {},
     "output_type": "execute_result"
    }
   ],
   "source": [
    "# Decision Tree -- max_depth = 5 - seems to be the best value for tree depth\n",
    "\n",
    "clf = DecisionTreeClassifier(max_depth=5)\n",
    "clf.fit(x_train, y_train)\n",
    "y_test_pred_decision_tree = clf.predict(x_test)\n",
    "test_acc = accuracy_score(y_test, y_test_pred_decision_tree)\n",
    "test_acc"
   ]
  },
  {
   "cell_type": "code",
   "execution_count": 46,
   "id": "fd3b23f5-c9c7-410f-99a7-3e8a3b6ca37d",
   "metadata": {},
   "outputs": [
    {
     "data": {
      "text/plain": [
       "0.78125"
      ]
     },
     "execution_count": 46,
     "metadata": {},
     "output_type": "execute_result"
    }
   ],
   "source": [
    "# Decision Tree -- max_depth = 7 \n",
    "\n",
    "clf = DecisionTreeClassifier(max_depth=7)\n",
    "clf.fit(x_train, y_train)\n",
    "y_test_pred_decision_tree = clf.predict(x_test)\n",
    "test_acc = accuracy_score(y_test, y_test_pred_decision_tree)\n",
    "test_acc"
   ]
  },
  {
   "cell_type": "code",
   "execution_count": 47,
   "id": "c2c775bf-3c99-4cf2-8ee7-62adce768a43",
   "metadata": {},
   "outputs": [
    {
     "data": {
      "text/plain": [
       "0.7776988636363636"
      ]
     },
     "execution_count": 47,
     "metadata": {},
     "output_type": "execute_result"
    }
   ],
   "source": [
    "# Decision Tree -- max_depth = 9 \n",
    "\n",
    "clf = DecisionTreeClassifier(max_depth=9)\n",
    "clf.fit(x_train, y_train)\n",
    "y_test_pred_decision_tree = clf.predict(x_test)\n",
    "test_acc = accuracy_score(y_test, y_test_pred_decision_tree)\n",
    "test_acc"
   ]
  },
  {
   "cell_type": "markdown",
   "id": "edaa9247-9c1c-4c14-b72d-f91a5d71b464",
   "metadata": {},
   "source": [
    "# Overfitting - Random forest - n_estimators"
   ]
  },
  {
   "cell_type": "code",
   "execution_count": 49,
   "id": "30e66851-3fee-4577-b547-e63c0b5a76fa",
   "metadata": {},
   "outputs": [
    {
     "data": {
      "text/plain": [
       "0.7833806818181818"
      ]
     },
     "execution_count": 49,
     "metadata": {},
     "output_type": "execute_result"
    }
   ],
   "source": [
    "# Random Forest -- n_estimators = 100 & max_depth = 5 \n",
    "\n",
    "model = RandomForestClassifier(n_estimators=100, max_depth=5, random_state=1)        \n",
    "model.fit(x_train, y_train)\n",
    "y_test_pred_random_forest = model.predict(x_test)\n",
    "test_acc = accuracy_score(y_test, y_test_pred_random_forest)\n",
    "test_acc"
   ]
  },
  {
   "cell_type": "code",
   "execution_count": 50,
   "id": "d57ae486-7d32-4112-9fc6-844682f61b06",
   "metadata": {},
   "outputs": [
    {
     "data": {
      "text/plain": [
       "0.7819602272727273"
      ]
     },
     "execution_count": 50,
     "metadata": {},
     "output_type": "execute_result"
    }
   ],
   "source": [
    "# Random Forest -- n_estimators = 200 & max_depth = 5 \n",
    "\n",
    "model = RandomForestClassifier(n_estimators=200, max_depth=5, random_state=1)        \n",
    "model.fit(x_train, y_train)\n",
    "y_test_pred_random_forest = model.predict(x_test)\n",
    "test_acc = accuracy_score(y_test, y_test_pred_random_forest)\n",
    "test_acc"
   ]
  },
  {
   "cell_type": "code",
   "execution_count": 51,
   "id": "83aab8a1-c5f1-4d8c-8ad4-000d5df2aea3",
   "metadata": {},
   "outputs": [
    {
     "data": {
      "text/plain": [
       "0.7840909090909091"
      ]
     },
     "execution_count": 51,
     "metadata": {},
     "output_type": "execute_result"
    }
   ],
   "source": [
    "# Random Forest -- n_estimators = 150 & max_depth = 5 \n",
    "\n",
    "model = RandomForestClassifier(n_estimators=150, max_depth=5, random_state=1)        \n",
    "model.fit(x_train, y_train)\n",
    "y_test_pred_random_forest = model.predict(x_test)\n",
    "test_acc = accuracy_score(y_test, y_test_pred_random_forest)\n",
    "test_acc"
   ]
  },
  {
   "cell_type": "code",
   "execution_count": 52,
   "id": "c5c04435-09d2-4c04-8d53-b603a6af0788",
   "metadata": {},
   "outputs": [
    {
     "data": {
      "text/plain": [
       "0.7819602272727273"
      ]
     },
     "execution_count": 52,
     "metadata": {},
     "output_type": "execute_result"
    }
   ],
   "source": [
    "# Random Forest -- n_estimators = 50 & max_depth = 5 \n",
    "\n",
    "model = RandomForestClassifier(n_estimators=50, max_depth=5, random_state=1)        \n",
    "model.fit(x_train, y_train)\n",
    "y_test_pred_random_forest = model.predict(x_test)\n",
    "test_acc = accuracy_score(y_test, y_test_pred_random_forest)\n",
    "test_acc"
   ]
  },
  {
   "cell_type": "code",
   "execution_count": 53,
   "id": "ae304a54-f18e-4078-a73c-ebd3d6beee33",
   "metadata": {},
   "outputs": [
    {
     "data": {
      "text/plain": [
       "0.7855113636363636"
      ]
     },
     "execution_count": 53,
     "metadata": {},
     "output_type": "execute_result"
    }
   ],
   "source": [
    "# Random Forest -- n_estimators = 10 & max_depth = 5 - looks like the best value for n_estimators\n",
    "\n",
    "model = RandomForestClassifier(n_estimators=10, max_depth=5, random_state=1)        \n",
    "model.fit(x_train, y_train)\n",
    "y_test_pred_random_forest = model.predict(x_test)\n",
    "test_acc = accuracy_score(y_test, y_test_pred_random_forest)\n",
    "test_acc"
   ]
  },
  {
   "cell_type": "markdown",
   "id": "3a08a9b2-71d4-4d9e-9581-7b45026bf1ea",
   "metadata": {},
   "source": [
    "# Overfitting - Random forest - max_depth"
   ]
  },
  {
   "cell_type": "code",
   "execution_count": 55,
   "id": "a50b95c1-0e02-4469-8624-ac85a2d33c3a",
   "metadata": {},
   "outputs": [
    {
     "data": {
      "text/plain": [
       "0.7911931818181818"
      ]
     },
     "execution_count": 55,
     "metadata": {},
     "output_type": "execute_result"
    }
   ],
   "source": [
    "# Random Forest -- n_estimators = 10 & max_depth = 7 - looks like the best value for max_depth\n",
    "\n",
    "model = RandomForestClassifier(n_estimators=10, max_depth=7, random_state=1)        \n",
    "model.fit(x_train, y_train)\n",
    "y_test_pred_RandomForest = model.predict(x_test)\n",
    "test_acc = accuracy_score(y_test, y_test_pred_RandomForest)\n",
    "test_acc"
   ]
  },
  {
   "cell_type": "code",
   "execution_count": 56,
   "id": "ffdebc7b-c634-41a9-acee-708cf08afa59",
   "metadata": {},
   "outputs": [
    {
     "data": {
      "text/plain": [
       "0.7911931818181818"
      ]
     },
     "execution_count": 56,
     "metadata": {},
     "output_type": "execute_result"
    }
   ],
   "source": [
    "# Random Forest -- n_estimators = 10 & max_depth = 9\n",
    "\n",
    "model = RandomForestClassifier(n_estimators=10, max_depth=9, random_state=1)        \n",
    "model.fit(x_train, y_train)\n",
    "y_test_pred_RandomForest = model.predict(x_test)\n",
    "test_acc = accuracy_score(y_test, y_test_pred_RandomForest)\n",
    "test_acc"
   ]
  },
  {
   "cell_type": "code",
   "execution_count": 57,
   "id": "b7a2e021-2a6d-4173-a9ef-f5f0dc706513",
   "metadata": {},
   "outputs": [
    {
     "data": {
      "text/plain": [
       "0.7791193181818182"
      ]
     },
     "execution_count": 57,
     "metadata": {},
     "output_type": "execute_result"
    }
   ],
   "source": [
    "# Random Forest -- n_estimators = 10 & max_depth = 11\n",
    "\n",
    "model = RandomForestClassifier(n_estimators=10, max_depth=11, random_state=1)        \n",
    "model.fit(x_train, y_train)\n",
    "y_test_pred_RandomForest = model.predict(x_test)\n",
    "test_acc = accuracy_score(y_test, y_test_pred_RandomForest)\n",
    "test_acc"
   ]
  },
  {
   "cell_type": "markdown",
   "id": "15efc146-a87a-4d19-8b8f-fdd1892e5f29",
   "metadata": {},
   "source": [
    "# The best values are: n_estimators=10 & max_depth = 11 "
   ]
  },
  {
   "cell_type": "markdown",
   "id": "249f5f92-eace-4819-a45c-b166e4056e5c",
   "metadata": {},
   "source": [
    "# Overfitting - K nearest neighbors"
   ]
  },
  {
   "cell_type": "code",
   "execution_count": 58,
   "id": "128c2975-b5c1-4537-86db-157ea7963478",
   "metadata": {},
   "outputs": [
    {
     "data": {
      "text/plain": [
       "0.7485795454545454"
      ]
     },
     "execution_count": 58,
     "metadata": {},
     "output_type": "execute_result"
    }
   ],
   "source": [
    "# Knn -- n_neighbors = 3\n",
    "\n",
    "clf = KNeighborsClassifier(n_neighbors=3)\n",
    "clf.fit(x_train, y_train)\n",
    "y_test_pred_knn = clf.predict(x_test)\n",
    "test_acc = accuracy_score(y_test, y_test_pred_knn)\n",
    "test_acc"
   ]
  },
  {
   "cell_type": "code",
   "execution_count": 59,
   "id": "8494d104-035d-4a4d-a84f-b2fea26d4e60",
   "metadata": {},
   "outputs": [
    {
     "data": {
      "text/plain": [
       "0.7599431818181818"
      ]
     },
     "execution_count": 59,
     "metadata": {},
     "output_type": "execute_result"
    }
   ],
   "source": [
    "# Knn -- n_neighbors = 5 \n",
    "\n",
    "clf = KNeighborsClassifier(n_neighbors=5)\n",
    "clf.fit(x_train, y_train)\n",
    "y_test_pred_knn = clf.predict(x_test)\n",
    "test_acc = accuracy_score(y_test, y_test_pred_knn)\n",
    "test_acc"
   ]
  },
  {
   "cell_type": "code",
   "execution_count": 60,
   "id": "3762c00c-4cf2-44bb-8e23-7b8948194672",
   "metadata": {},
   "outputs": [
    {
     "data": {
      "text/plain": [
       "0.7798295454545454"
      ]
     },
     "execution_count": 60,
     "metadata": {},
     "output_type": "execute_result"
    }
   ],
   "source": [
    "# Knn -- n_neighbors = 7\n",
    "\n",
    "clf = KNeighborsClassifier(n_neighbors=7)\n",
    "clf.fit(x_train, y_train)\n",
    "y_test_pred_knn = clf.predict(x_test)\n",
    "test_acc = accuracy_score(y_test, y_test_pred_knn)\n",
    "test_acc"
   ]
  },
  {
   "cell_type": "code",
   "execution_count": 61,
   "id": "a3783496-8e20-4518-8dc1-28cb803f19eb",
   "metadata": {},
   "outputs": [
    {
     "data": {
      "text/plain": [
       "0.7741477272727273"
      ]
     },
     "execution_count": 61,
     "metadata": {},
     "output_type": "execute_result"
    }
   ],
   "source": [
    "# Knn -- n_neighbors = 9 - seems to be the best value\n",
    "\n",
    "clf = KNeighborsClassifier(n_neighbors=9)\n",
    "clf.fit(x_train, y_train)\n",
    "y_test_pred_knn = clf.predict(x_test)\n",
    "test_acc = accuracy_score(y_test, y_test_pred_knn)\n",
    "test_acc"
   ]
  },
  {
   "cell_type": "code",
   "execution_count": 62,
   "id": "6471f240-57b7-483d-b4ba-258407c57ed1",
   "metadata": {},
   "outputs": [
    {
     "data": {
      "text/plain": [
       "0.7890625"
      ]
     },
     "execution_count": 62,
     "metadata": {},
     "output_type": "execute_result"
    }
   ],
   "source": [
    "# Knn -- n_neighbors = 11\n",
    "\n",
    "clf = KNeighborsClassifier(n_neighbors=11)\n",
    "clf.fit(x_train, y_train)\n",
    "y_test_pred_knn = clf.predict(x_test)\n",
    "test_acc = accuracy_score(y_test, y_test_pred_knn)\n",
    "test_acc"
   ]
  },
  {
   "cell_type": "markdown",
   "id": "4e8a242f-1668-4bff-838b-be41d781b099",
   "metadata": {},
   "source": [
    "# Scale"
   ]
  },
  {
   "cell_type": "code",
   "execution_count": 63,
   "id": "938e6453-1bf3-45bc-9407-b69199144014",
   "metadata": {},
   "outputs": [
    {
     "data": {
      "text/plain": [
       "0.7677556818181818"
      ]
     },
     "execution_count": 63,
     "metadata": {},
     "output_type": "execute_result"
    }
   ],
   "source": [
    "from sklearn.preprocessing import StandardScaler\n",
    "\n",
    "scaler = StandardScaler() \n",
    "\n",
    "x_train_scaled = scaler.fit_transform(x_train) \n",
    "x_test_scaled = scaler.transform(x_test)\n",
    "\n",
    "clf = KNeighborsClassifier(n_neighbors=9)\n",
    "clf.fit(x_train_scaled, y_train)\n",
    "\n",
    "y_test_pred_knn_scaled = clf.predict(x_test_scaled)\n",
    "\n",
    "\n",
    "output = pd.DataFrame({'customerid': customer_test, 'actual_churn':y_test, 'predicted_churn': y_test_pred_knn, \n",
    "                       'predicted_churn_after_scaling':y_test_pred_knn_scaled}) \n",
    "output.to_csv('my_Knn_Prediction_scaled.csv', index=False)\n",
    "\n",
    "\n",
    "test_acc = accuracy_score(y_test, y_test_pred_knn_scaled)\n",
    "test_acc"
   ]
  },
  {
   "cell_type": "markdown",
   "id": "ae32d1af-85a5-4d60-bcc3-d71775f4fa19",
   "metadata": {},
   "source": [
    "# Evaluation + Benchmark"
   ]
  },
  {
   "cell_type": "code",
   "execution_count": 64,
   "id": "0b669bec-58d0-41c2-8b60-0d7a94178ac8",
   "metadata": {},
   "outputs": [
    {
     "data": {
      "text/plain": [
       "0    4134\n",
       "1    1501\n",
       "Name: Churn, dtype: int64"
      ]
     },
     "execution_count": 64,
     "metadata": {},
     "output_type": "execute_result"
    }
   ],
   "source": [
    "# The most common value for the label is \"0\" - not churned\n",
    "y_train.value_counts()"
   ]
  },
  {
   "cell_type": "code",
   "execution_count": 65,
   "id": "58d2d5cf-38f5-4d70-b80b-9fd764ee1e69",
   "metadata": {},
   "outputs": [
    {
     "data": {
      "text/plain": [
       "array([0., 0., 0., ..., 0., 0., 0.])"
      ]
     },
     "execution_count": 65,
     "metadata": {},
     "output_type": "execute_result"
    }
   ],
   "source": [
    "def get_benchmark_predictions(x, benchmark_value):\n",
    "    return np.ones(len(x))*benchmark_value\n",
    "    \n",
    "benchmark_value = 0\n",
    "y_test_pred_benchmark = get_benchmark_predictions(x_test, benchmark_value)\n",
    "y_test_pred_benchmark"
   ]
  },
  {
   "cell_type": "code",
   "execution_count": 66,
   "id": "359693fa-90d4-4a3a-87e3-fcf6e9a852af",
   "metadata": {},
   "outputs": [
    {
     "data": {
      "text/plain": [
       "0.7386363636363636"
      ]
     },
     "execution_count": 66,
     "metadata": {},
     "output_type": "execute_result"
    }
   ],
   "source": [
    "# All 3 algorithms were better than the benchmark\n",
    "test_acc = accuracy_score(y_test, y_test_pred_benchmark)\n",
    "test_acc"
   ]
  },
  {
   "cell_type": "markdown",
   "id": "fbac54a0-3c80-4ee2-89cb-ea4e93275b35",
   "metadata": {},
   "source": [
    "### Our model results:\n",
    "Decision tree best accuracy Result: 82.5%<br>\n",
    "Random Forest best accuracy Result: 84%<br>\n",
    "Knn best accuracy Result (before standardization): 78.5%<br>\n",
    "Knn best accuracy Result (after standardization): 81.5%<br>\n",
    "## The performance on test is 62.5%, we can see, that any of our algorithms beat the benchmark performance"
   ]
  },
  {
   "cell_type": "code",
   "execution_count": null,
   "id": "cec7c18b-a963-4fb4-863b-8d776cf33b8c",
   "metadata": {},
   "outputs": [],
   "source": []
  },
  {
   "cell_type": "code",
   "execution_count": null,
   "id": "00181981-385f-4012-8ca3-52eb93b61cae",
   "metadata": {},
   "outputs": [],
   "source": []
  },
  {
   "cell_type": "code",
   "execution_count": null,
   "id": "5eeb1508-a6e7-4ca4-ae3f-42eae8e7a17e",
   "metadata": {},
   "outputs": [],
   "source": []
  },
  {
   "cell_type": "code",
   "execution_count": null,
   "id": "3a77f40b-2833-4b7d-ab18-39fddb07e793",
   "metadata": {},
   "outputs": [],
   "source": []
  },
  {
   "cell_type": "code",
   "execution_count": null,
   "id": "1ba79ccc-013a-4cf3-9f14-2aabe65723cc",
   "metadata": {},
   "outputs": [],
   "source": []
  },
  {
   "cell_type": "code",
   "execution_count": null,
   "id": "e58ffaef-9788-4943-8ca7-4e7ac59599da",
   "metadata": {},
   "outputs": [],
   "source": []
  },
  {
   "cell_type": "code",
   "execution_count": null,
   "id": "af564e43-41e3-46e8-ad82-b05a88a54504",
   "metadata": {},
   "outputs": [],
   "source": []
  },
  {
   "cell_type": "code",
   "execution_count": 133,
   "id": "4348fcb3-1534-498d-8099-546cd6ef52eb",
   "metadata": {},
   "outputs": [
    {
     "data": {
      "text/plain": [
       "<AxesSubplot:>"
      ]
     },
     "execution_count": 133,
     "metadata": {},
     "output_type": "execute_result"
    },
    {
     "data": {
      "image/png": "[encoded data removed]",
      "text/plain": [
       "<Figure size 432x288 with 1 Axes>"
      ]
     },
     "metadata": {
      "needs_background": "light"
     },
     "output_type": "display_data"
    }
   ],
   "source": [
    "churn.corr()['Churn'].drop('Churn').plot(kind='barh')"
   ]
  },
  {
   "cell_type": "code",
   "execution_count": null,
   "id": "35653023-9298-4172-92fc-c66c2e022cee",
   "metadata": {},
   "outputs": [],
   "source": []
  },
  {
   "cell_type": "code",
   "execution_count": 134,
   "id": "b46f5eef-abce-449f-97ae-7b8d816f4482",
   "metadata": {},
   "outputs": [
    {
     "data": {
      "text/plain": [
       "<AxesSubplot:>"
      ]
     },
     "execution_count": 134,
     "metadata": {},
     "output_type": "execute_result"
    },
    {
     "data": {
      "image/png": "[encoded data removed]",
      "text/plain": [
       "<Figure size 432x288 with 2 Axes>"
      ]
     },
     "metadata": {
      "needs_background": "light"
     },
     "output_type": "display_data"
    }
   ],
   "source": [
    "sns.heatmap(churn.corr())"
   ]
  },
  {
   "cell_type": "code",
   "execution_count": 135,
   "id": "9a53a2e9-f0f1-4fe9-ab45-d43217e428bb",
   "metadata": {},
   "outputs": [
    {
     "data": {
      "text/html": [
       "<div>\n",
       "<style scoped>\n",
       "    .dataframe tbody tr th:only-of-type {\n",
       "        vertical-align: middle;\n",
       "    }\n",
       "\n",
       "    .dataframe tbody tr th {\n",
       "        vertical-align: top;\n",
       "    }\n",
       "\n",
       "    .dataframe thead th {\n",
       "        text-align: right;\n",
       "    }\n",
       "</style>\n",
       "<table border=\"1\" class=\"dataframe\">\n",
       "  <thead>\n",
       "    <tr style=\"text-align: right;\">\n",
       "      <th></th>\n",
       "      <th>SeniorCitizen</th>\n",
       "      <th>Partner</th>\n",
       "      <th>Dependents</th>\n",
       "      <th>OnlineSecurity</th>\n",
       "      <th>TechSupport</th>\n",
       "      <th>PaperlessBilling</th>\n",
       "      <th>Churn</th>\n",
       "      <th>AutoPaymentMethod</th>\n",
       "      <th>Avg Term</th>\n",
       "      <th>Long Term</th>\n",
       "      <th>New Cust</th>\n",
       "      <th>HighCharges</th>\n",
       "      <th>LowCharges</th>\n",
       "      <th>Month-to-month</th>\n",
       "      <th>One year</th>\n",
       "      <th>Two year</th>\n",
       "      <th>InternetService_DSL</th>\n",
       "      <th>InternetService_Fiber optic</th>\n",
       "      <th>InternetService_No</th>\n",
       "    </tr>\n",
       "  </thead>\n",
       "  <tbody>\n",
       "    <tr>\n",
       "      <th>SeniorCitizen</th>\n",
       "      <td>1.000000</td>\n",
       "      <td>0.016479</td>\n",
       "      <td>-0.211185</td>\n",
       "      <td>-0.038653</td>\n",
       "      <td>-0.060625</td>\n",
       "      <td>0.156530</td>\n",
       "      <td>0.150889</td>\n",
       "      <td>-0.033520</td>\n",
       "      <td>0.010488</td>\n",
       "      <td>0.007593</td>\n",
       "      <td>-0.018037</td>\n",
       "      <td>0.111337</td>\n",
       "      <td>-0.109871</td>\n",
       "      <td>0.138360</td>\n",
       "      <td>-0.046262</td>\n",
       "      <td>-0.117000</td>\n",
       "      <td>-0.108322</td>\n",
       "      <td>0.255338</td>\n",
       "      <td>-0.182742</td>\n",
       "    </tr>\n",
       "    <tr>\n",
       "      <th>Partner</th>\n",
       "      <td>0.016479</td>\n",
       "      <td>1.000000</td>\n",
       "      <td>0.452676</td>\n",
       "      <td>0.143106</td>\n",
       "      <td>0.119999</td>\n",
       "      <td>-0.014877</td>\n",
       "      <td>-0.150448</td>\n",
       "      <td>0.160475</td>\n",
       "      <td>0.064016</td>\n",
       "      <td>0.259234</td>\n",
       "      <td>-0.286167</td>\n",
       "      <td>0.255470</td>\n",
       "      <td>-0.257447</td>\n",
       "      <td>-0.280865</td>\n",
       "      <td>0.082783</td>\n",
       "      <td>0.248091</td>\n",
       "      <td>-0.000851</td>\n",
       "      <td>0.000304</td>\n",
       "      <td>0.000615</td>\n",
       "    </tr>\n",
       "    <tr>\n",
       "      <th>Dependents</th>\n",
       "      <td>-0.211185</td>\n",
       "      <td>0.452676</td>\n",
       "      <td>1.000000</td>\n",
       "      <td>0.080972</td>\n",
       "      <td>0.063268</td>\n",
       "      <td>-0.111377</td>\n",
       "      <td>-0.164221</td>\n",
       "      <td>0.093439</td>\n",
       "      <td>0.041866</td>\n",
       "      <td>0.109570</td>\n",
       "      <td>-0.137553</td>\n",
       "      <td>0.032433</td>\n",
       "      <td>-0.037274</td>\n",
       "      <td>-0.231720</td>\n",
       "      <td>0.068368</td>\n",
       "      <td>0.204613</td>\n",
       "      <td>0.052010</td>\n",
       "      <td>-0.165818</td>\n",
       "      <td>0.139812</td>\n",
       "    </tr>\n",
       "    <tr>\n",
       "      <th>OnlineSecurity</th>\n",
       "      <td>-0.038653</td>\n",
       "      <td>0.143106</td>\n",
       "      <td>0.080972</td>\n",
       "      <td>1.000000</td>\n",
       "      <td>0.354931</td>\n",
       "      <td>-0.003636</td>\n",
       "      <td>-0.171226</td>\n",
       "      <td>0.175469</td>\n",
       "      <td>0.016788</td>\n",
       "      <td>0.250064</td>\n",
       "      <td>-0.225640</td>\n",
       "      <td>0.378756</td>\n",
       "      <td>-0.379067</td>\n",
       "      <td>-0.246679</td>\n",
       "      <td>0.100162</td>\n",
       "      <td>0.191773</td>\n",
       "      <td>0.321269</td>\n",
       "      <td>-0.030696</td>\n",
       "      <td>-0.333403</td>\n",
       "    </tr>\n",
       "    <tr>\n",
       "      <th>TechSupport</th>\n",
       "      <td>-0.060625</td>\n",
       "      <td>0.119999</td>\n",
       "      <td>0.063268</td>\n",
       "      <td>0.354931</td>\n",
       "      <td>1.000000</td>\n",
       "      <td>0.037880</td>\n",
       "      <td>-0.164674</td>\n",
       "      <td>0.181843</td>\n",
       "      <td>0.020224</td>\n",
       "      <td>0.248346</td>\n",
       "      <td>-0.228070</td>\n",
       "      <td>0.393851</td>\n",
       "      <td>-0.394126</td>\n",
       "      <td>-0.285241</td>\n",
       "      <td>0.095775</td>\n",
       "      <td>0.240824</td>\n",
       "      <td>0.313118</td>\n",
       "      <td>-0.020492</td>\n",
       "      <td>-0.336298</td>\n",
       "    </tr>\n",
       "    <tr>\n",
       "      <th>PaperlessBilling</th>\n",
       "      <td>0.156530</td>\n",
       "      <td>-0.014877</td>\n",
       "      <td>-0.111377</td>\n",
       "      <td>-0.003636</td>\n",
       "      <td>0.037880</td>\n",
       "      <td>1.000000</td>\n",
       "      <td>0.191825</td>\n",
       "      <td>-0.024909</td>\n",
       "      <td>0.007459</td>\n",
       "      <td>0.001768</td>\n",
       "      <td>-0.009824</td>\n",
       "      <td>0.162192</td>\n",
       "      <td>-0.160026</td>\n",
       "      <td>0.169096</td>\n",
       "      <td>-0.051391</td>\n",
       "      <td>-0.147889</td>\n",
       "      <td>-0.063121</td>\n",
       "      <td>0.326853</td>\n",
       "      <td>-0.321013</td>\n",
       "    </tr>\n",
       "    <tr>\n",
       "      <th>Churn</th>\n",
       "      <td>0.150889</td>\n",
       "      <td>-0.150448</td>\n",
       "      <td>-0.164221</td>\n",
       "      <td>-0.171226</td>\n",
       "      <td>-0.164674</td>\n",
       "      <td>0.191825</td>\n",
       "      <td>1.000000</td>\n",
       "      <td>-0.209902</td>\n",
       "      <td>-0.135952</td>\n",
       "      <td>-0.196259</td>\n",
       "      <td>0.314720</td>\n",
       "      <td>-0.149261</td>\n",
       "      <td>0.151081</td>\n",
       "      <td>0.405103</td>\n",
       "      <td>-0.177820</td>\n",
       "      <td>-0.302253</td>\n",
       "      <td>-0.124214</td>\n",
       "      <td>0.308020</td>\n",
       "      <td>-0.227890</td>\n",
       "    </tr>\n",
       "    <tr>\n",
       "      <th>AutoPaymentMethod</th>\n",
       "      <td>-0.033520</td>\n",
       "      <td>0.160475</td>\n",
       "      <td>0.093439</td>\n",
       "      <td>0.175469</td>\n",
       "      <td>0.181843</td>\n",
       "      <td>-0.024909</td>\n",
       "      <td>-0.209902</td>\n",
       "      <td>1.000000</td>\n",
       "      <td>0.055614</td>\n",
       "      <td>0.289512</td>\n",
       "      <td>-0.301789</td>\n",
       "      <td>0.258215</td>\n",
       "      <td>-0.257016</td>\n",
       "      <td>-0.319426</td>\n",
       "      <td>0.104049</td>\n",
       "      <td>0.272734</td>\n",
       "      <td>0.063959</td>\n",
       "      <td>-0.060449</td>\n",
       "      <td>-0.000909</td>\n",
       "    </tr>\n",
       "    <tr>\n",
       "      <th>Avg Term</th>\n",
       "      <td>0.010488</td>\n",
       "      <td>0.064016</td>\n",
       "      <td>0.041866</td>\n",
       "      <td>0.016788</td>\n",
       "      <td>0.020224</td>\n",
       "      <td>0.007459</td>\n",
       "      <td>-0.135952</td>\n",
       "      <td>0.055614</td>\n",
       "      <td>1.000000</td>\n",
       "      <td>-0.507290</td>\n",
       "      <td>-0.701419</td>\n",
       "      <td>0.178968</td>\n",
       "      <td>-0.175129</td>\n",
       "      <td>-0.094689</td>\n",
       "      <td>0.240226</td>\n",
       "      <td>-0.118352</td>\n",
       "      <td>-0.017247</td>\n",
       "      <td>0.015930</td>\n",
       "      <td>0.000691</td>\n",
       "    </tr>\n",
       "    <tr>\n",
       "      <th>Long Term</th>\n",
       "      <td>0.007593</td>\n",
       "      <td>0.259234</td>\n",
       "      <td>0.109570</td>\n",
       "      <td>0.250064</td>\n",
       "      <td>0.248346</td>\n",
       "      <td>0.001768</td>\n",
       "      <td>-0.196259</td>\n",
       "      <td>0.289512</td>\n",
       "      <td>-0.507290</td>\n",
       "      <td>1.000000</td>\n",
       "      <td>-0.258407</td>\n",
       "      <td>0.354328</td>\n",
       "      <td>-0.352739</td>\n",
       "      <td>-0.429536</td>\n",
       "      <td>-0.023905</td>\n",
       "      <td>0.522601</td>\n",
       "      <td>0.022805</td>\n",
       "      <td>-0.000393</td>\n",
       "      <td>-0.025818</td>\n",
       "    </tr>\n",
       "    <tr>\n",
       "      <th>New Cust</th>\n",
       "      <td>-0.018037</td>\n",
       "      <td>-0.286167</td>\n",
       "      <td>-0.137553</td>\n",
       "      <td>-0.225640</td>\n",
       "      <td>-0.228070</td>\n",
       "      <td>-0.009824</td>\n",
       "      <td>0.314720</td>\n",
       "      <td>-0.301789</td>\n",
       "      <td>-0.701419</td>\n",
       "      <td>-0.258407</td>\n",
       "      <td>1.000000</td>\n",
       "      <td>-0.493674</td>\n",
       "      <td>0.488057</td>\n",
       "      <td>0.461401</td>\n",
       "      <td>-0.249518</td>\n",
       "      <td>-0.299558</td>\n",
       "      <td>0.000472</td>\n",
       "      <td>-0.017533</td>\n",
       "      <td>0.020579</td>\n",
       "    </tr>\n",
       "    <tr>\n",
       "      <th>HighCharges</th>\n",
       "      <td>0.111337</td>\n",
       "      <td>0.255470</td>\n",
       "      <td>0.032433</td>\n",
       "      <td>0.378756</td>\n",
       "      <td>0.393851</td>\n",
       "      <td>0.162192</td>\n",
       "      <td>-0.149261</td>\n",
       "      <td>0.258215</td>\n",
       "      <td>0.178968</td>\n",
       "      <td>0.354328</td>\n",
       "      <td>-0.493674</td>\n",
       "      <td>1.000000</td>\n",
       "      <td>-0.996768</td>\n",
       "      <td>-0.330960</td>\n",
       "      <td>0.186781</td>\n",
       "      <td>0.207447</td>\n",
       "      <td>0.054957</td>\n",
       "      <td>0.307363</td>\n",
       "      <td>-0.433662</td>\n",
       "    </tr>\n",
       "    <tr>\n",
       "      <th>LowCharges</th>\n",
       "      <td>-0.109871</td>\n",
       "      <td>-0.257447</td>\n",
       "      <td>-0.037274</td>\n",
       "      <td>-0.379067</td>\n",
       "      <td>-0.394126</td>\n",
       "      <td>-0.160026</td>\n",
       "      <td>0.151081</td>\n",
       "      <td>-0.257016</td>\n",
       "      <td>-0.175129</td>\n",
       "      <td>-0.352739</td>\n",
       "      <td>0.488057</td>\n",
       "      <td>-0.996768</td>\n",
       "      <td>1.000000</td>\n",
       "      <td>0.334276</td>\n",
       "      <td>-0.185744</td>\n",
       "      <td>-0.212292</td>\n",
       "      <td>-0.055665</td>\n",
       "      <td>-0.304361</td>\n",
       "      <td>0.430861</td>\n",
       "    </tr>\n",
       "    <tr>\n",
       "      <th>Month-to-month</th>\n",
       "      <td>0.138360</td>\n",
       "      <td>-0.280865</td>\n",
       "      <td>-0.231720</td>\n",
       "      <td>-0.246679</td>\n",
       "      <td>-0.285241</td>\n",
       "      <td>0.169096</td>\n",
       "      <td>0.405103</td>\n",
       "      <td>-0.319426</td>\n",
       "      <td>-0.094689</td>\n",
       "      <td>-0.429536</td>\n",
       "      <td>0.461401</td>\n",
       "      <td>-0.330960</td>\n",
       "      <td>0.334276</td>\n",
       "      <td>1.000000</td>\n",
       "      <td>-0.568744</td>\n",
       "      <td>-0.622633</td>\n",
       "      <td>-0.065509</td>\n",
       "      <td>0.244164</td>\n",
       "      <td>-0.218639</td>\n",
       "    </tr>\n",
       "    <tr>\n",
       "      <th>One year</th>\n",
       "      <td>-0.046262</td>\n",
       "      <td>0.082783</td>\n",
       "      <td>0.068368</td>\n",
       "      <td>0.100162</td>\n",
       "      <td>0.095775</td>\n",
       "      <td>-0.051391</td>\n",
       "      <td>-0.177820</td>\n",
       "      <td>0.104049</td>\n",
       "      <td>0.240226</td>\n",
       "      <td>-0.023905</td>\n",
       "      <td>-0.249518</td>\n",
       "      <td>0.186781</td>\n",
       "      <td>-0.185744</td>\n",
       "      <td>-0.568744</td>\n",
       "      <td>1.000000</td>\n",
       "      <td>-0.289510</td>\n",
       "      <td>0.046795</td>\n",
       "      <td>-0.076324</td>\n",
       "      <td>0.038004</td>\n",
       "    </tr>\n",
       "    <tr>\n",
       "      <th>Two year</th>\n",
       "      <td>-0.117000</td>\n",
       "      <td>0.248091</td>\n",
       "      <td>0.204613</td>\n",
       "      <td>0.191773</td>\n",
       "      <td>0.240824</td>\n",
       "      <td>-0.147889</td>\n",
       "      <td>-0.302253</td>\n",
       "      <td>0.272734</td>\n",
       "      <td>-0.118352</td>\n",
       "      <td>0.522601</td>\n",
       "      <td>-0.299558</td>\n",
       "      <td>0.207447</td>\n",
       "      <td>-0.212292</td>\n",
       "      <td>-0.622633</td>\n",
       "      <td>-0.289510</td>\n",
       "      <td>1.000000</td>\n",
       "      <td>0.031714</td>\n",
       "      <td>-0.211526</td>\n",
       "      <td>0.218278</td>\n",
       "    </tr>\n",
       "    <tr>\n",
       "      <th>InternetService_DSL</th>\n",
       "      <td>-0.108322</td>\n",
       "      <td>-0.000851</td>\n",
       "      <td>0.052010</td>\n",
       "      <td>0.321269</td>\n",
       "      <td>0.313118</td>\n",
       "      <td>-0.063121</td>\n",
       "      <td>-0.124214</td>\n",
       "      <td>0.063959</td>\n",
       "      <td>-0.017247</td>\n",
       "      <td>0.022805</td>\n",
       "      <td>0.000472</td>\n",
       "      <td>0.054957</td>\n",
       "      <td>-0.055665</td>\n",
       "      <td>-0.065509</td>\n",
       "      <td>0.046795</td>\n",
       "      <td>0.031714</td>\n",
       "      <td>1.000000</td>\n",
       "      <td>-0.640987</td>\n",
       "      <td>-0.380635</td>\n",
       "    </tr>\n",
       "    <tr>\n",
       "      <th>InternetService_Fiber optic</th>\n",
       "      <td>0.255338</td>\n",
       "      <td>0.000304</td>\n",
       "      <td>-0.165818</td>\n",
       "      <td>-0.030696</td>\n",
       "      <td>-0.020492</td>\n",
       "      <td>0.326853</td>\n",
       "      <td>0.308020</td>\n",
       "      <td>-0.060449</td>\n",
       "      <td>0.015930</td>\n",
       "      <td>-0.000393</td>\n",
       "      <td>-0.017533</td>\n",
       "      <td>0.307363</td>\n",
       "      <td>-0.304361</td>\n",
       "      <td>0.244164</td>\n",
       "      <td>-0.076324</td>\n",
       "      <td>-0.211526</td>\n",
       "      <td>-0.640987</td>\n",
       "      <td>1.000000</td>\n",
       "      <td>-0.465793</td>\n",
       "    </tr>\n",
       "    <tr>\n",
       "      <th>InternetService_No</th>\n",
       "      <td>-0.182742</td>\n",
       "      <td>0.000615</td>\n",
       "      <td>0.139812</td>\n",
       "      <td>-0.333403</td>\n",
       "      <td>-0.336298</td>\n",
       "      <td>-0.321013</td>\n",
       "      <td>-0.227890</td>\n",
       "      <td>-0.000909</td>\n",
       "      <td>0.000691</td>\n",
       "      <td>-0.025818</td>\n",
       "      <td>0.020579</td>\n",
       "      <td>-0.433662</td>\n",
       "      <td>0.430861</td>\n",
       "      <td>-0.218639</td>\n",
       "      <td>0.038004</td>\n",
       "      <td>0.218278</td>\n",
       "      <td>-0.380635</td>\n",
       "      <td>-0.465793</td>\n",
       "      <td>1.000000</td>\n",
       "    </tr>\n",
       "  </tbody>\n",
       "</table>\n",
       "</div>"
      ],
      "text/plain": [
       "                             SeniorCitizen   Partner  Dependents  \\\n",
       "SeniorCitizen                     1.000000  0.016479   -0.211185   \n",
       "Partner                           0.016479  1.000000    0.452676   \n",
       "Dependents                       -0.211185  0.452676    1.000000   \n",
       "OnlineSecurity                   -0.038653  0.143106    0.080972   \n",
       "TechSupport                      -0.060625  0.119999    0.063268   \n",
       "PaperlessBilling                  0.156530 -0.014877   -0.111377   \n",
       "Churn                             0.150889 -0.150448   -0.164221   \n",
       "AutoPaymentMethod                -0.033520  0.160475    0.093439   \n",
       "Avg Term                          0.010488  0.064016    0.041866   \n",
       "Long Term                         0.007593  0.259234    0.109570   \n",
       "New Cust                         -0.018037 -0.286167   -0.137553   \n",
       "HighCharges                       0.111337  0.255470    0.032433   \n",
       "LowCharges                       -0.109871 -0.257447   -0.037274   \n",
       "Month-to-month                    0.138360 -0.280865   -0.231720   \n",
       "One year                         -0.046262  0.082783    0.068368   \n",
       "Two year                         -0.117000  0.248091    0.204613   \n",
       "InternetService_DSL              -0.108322 -0.000851    0.052010   \n",
       "InternetService_Fiber optic       0.255338  0.000304   -0.165818   \n",
       "InternetService_No               -0.182742  0.000615    0.139812   \n",
       "\n",
       "                             OnlineSecurity  TechSupport  PaperlessBilling  \\\n",
       "SeniorCitizen                     -0.038653    -0.060625          0.156530   \n",
       "Partner                            0.143106     0.119999         -0.014877   \n",
       "Dependents                         0.080972     0.063268         -0.111377   \n",
       "OnlineSecurity                     1.000000     0.354931         -0.003636   \n",
       "TechSupport                        0.354931     1.000000          0.037880   \n",
       "PaperlessBilling                  -0.003636     0.037880          1.000000   \n",
       "Churn                             -0.171226    -0.164674          0.191825   \n",
       "AutoPaymentMethod                  0.175469     0.181843         -0.024909   \n",
       "Avg Term                           0.016788     0.020224          0.007459   \n",
       "Long Term                          0.250064     0.248346          0.001768   \n",
       "New Cust                          -0.225640    -0.228070         -0.009824   \n",
       "HighCharges                        0.378756     0.393851          0.162192   \n",
       "LowCharges                        -0.379067    -0.394126         -0.160026   \n",
       "Month-to-month                    -0.246679    -0.285241          0.169096   \n",
       "One year                           0.100162     0.095775         -0.051391   \n",
       "Two year                           0.191773     0.240824         -0.147889   \n",
       "InternetService_DSL                0.321269     0.313118         -0.063121   \n",
       "InternetService_Fiber optic       -0.030696    -0.020492          0.326853   \n",
       "InternetService_No                -0.333403    -0.336298         -0.321013   \n",
       "\n",
       "                                Churn  AutoPaymentMethod  Avg Term  Long Term  \\\n",
       "SeniorCitizen                0.150889          -0.033520  0.010488   0.007593   \n",
       "Partner                     -0.150448           0.160475  0.064016   0.259234   \n",
       "Dependents                  -0.164221           0.093439  0.041866   0.109570   \n",
       "OnlineSecurity              -0.171226           0.175469  0.016788   0.250064   \n",
       "TechSupport                 -0.164674           0.181843  0.020224   0.248346   \n",
       "PaperlessBilling             0.191825          -0.024909  0.007459   0.001768   \n",
       "Churn                        1.000000          -0.209902 -0.135952  -0.196259   \n",
       "AutoPaymentMethod           -0.209902           1.000000  0.055614   0.289512   \n",
       "Avg Term                    -0.135952           0.055614  1.000000  -0.507290   \n",
       "Long Term                   -0.196259           0.289512 -0.507290   1.000000   \n",
       "New Cust                     0.314720          -0.301789 -0.701419  -0.258407   \n",
       "HighCharges                 -0.149261           0.258215  0.178968   0.354328   \n",
       "LowCharges                   0.151081          -0.257016 -0.175129  -0.352739   \n",
       "Month-to-month               0.405103          -0.319426 -0.094689  -0.429536   \n",
       "One year                    -0.177820           0.104049  0.240226  -0.023905   \n",
       "Two year                    -0.302253           0.272734 -0.118352   0.522601   \n",
       "InternetService_DSL         -0.124214           0.063959 -0.017247   0.022805   \n",
       "InternetService_Fiber optic  0.308020          -0.060449  0.015930  -0.000393   \n",
       "InternetService_No          -0.227890          -0.000909  0.000691  -0.025818   \n",
       "\n",
       "                             New Cust  HighCharges  LowCharges  \\\n",
       "SeniorCitizen               -0.018037     0.111337   -0.109871   \n",
       "Partner                     -0.286167     0.255470   -0.257447   \n",
       "Dependents                  -0.137553     0.032433   -0.037274   \n",
       "OnlineSecurity              -0.225640     0.378756   -0.379067   \n",
       "TechSupport                 -0.228070     0.393851   -0.394126   \n",
       "PaperlessBilling            -0.009824     0.162192   -0.160026   \n",
       "Churn                        0.314720    -0.149261    0.151081   \n",
       "AutoPaymentMethod           -0.301789     0.258215   -0.257016   \n",
       "Avg Term                    -0.701419     0.178968   -0.175129   \n",
       "Long Term                   -0.258407     0.354328   -0.352739   \n",
       "New Cust                     1.000000    -0.493674    0.488057   \n",
       "HighCharges                 -0.493674     1.000000   -0.996768   \n",
       "LowCharges                   0.488057    -0.996768    1.000000   \n",
       "Month-to-month               0.461401    -0.330960    0.334276   \n",
       "One year                    -0.249518     0.186781   -0.185744   \n",
       "Two year                    -0.299558     0.207447   -0.212292   \n",
       "InternetService_DSL          0.000472     0.054957   -0.055665   \n",
       "InternetService_Fiber optic -0.017533     0.307363   -0.304361   \n",
       "InternetService_No           0.020579    -0.433662    0.430861   \n",
       "\n",
       "                             Month-to-month  One year  Two year  \\\n",
       "SeniorCitizen                      0.138360 -0.046262 -0.117000   \n",
       "Partner                           -0.280865  0.082783  0.248091   \n",
       "Dependents                        -0.231720  0.068368  0.204613   \n",
       "OnlineSecurity                    -0.246679  0.100162  0.191773   \n",
       "TechSupport                       -0.285241  0.095775  0.240824   \n",
       "PaperlessBilling                   0.169096 -0.051391 -0.147889   \n",
       "Churn                              0.405103 -0.177820 -0.302253   \n",
       "AutoPaymentMethod                 -0.319426  0.104049  0.272734   \n",
       "Avg Term                          -0.094689  0.240226 -0.118352   \n",
       "Long Term                         -0.429536 -0.023905  0.522601   \n",
       "New Cust                           0.461401 -0.249518 -0.299558   \n",
       "HighCharges                       -0.330960  0.186781  0.207447   \n",
       "LowCharges                         0.334276 -0.185744 -0.212292   \n",
       "Month-to-month                     1.000000 -0.568744 -0.622633   \n",
       "One year                          -0.568744  1.000000 -0.289510   \n",
       "Two year                          -0.622633 -0.289510  1.000000   \n",
       "InternetService_DSL               -0.065509  0.046795  0.031714   \n",
       "InternetService_Fiber optic        0.244164 -0.076324 -0.211526   \n",
       "InternetService_No                -0.218639  0.038004  0.218278   \n",
       "\n",
       "                             InternetService_DSL  InternetService_Fiber optic  \\\n",
       "SeniorCitizen                          -0.108322                     0.255338   \n",
       "Partner                                -0.000851                     0.000304   \n",
       "Dependents                              0.052010                    -0.165818   \n",
       "OnlineSecurity                          0.321269                    -0.030696   \n",
       "TechSupport                             0.313118                    -0.020492   \n",
       "PaperlessBilling                       -0.063121                     0.326853   \n",
       "Churn                                  -0.124214                     0.308020   \n",
       "AutoPaymentMethod                       0.063959                    -0.060449   \n",
       "Avg Term                               -0.017247                     0.015930   \n",
       "Long Term                               0.022805                    -0.000393   \n",
       "New Cust                                0.000472                    -0.017533   \n",
       "HighCharges                             0.054957                     0.307363   \n",
       "LowCharges                             -0.055665                    -0.304361   \n",
       "Month-to-month                         -0.065509                     0.244164   \n",
       "One year                                0.046795                    -0.076324   \n",
       "Two year                                0.031714                    -0.211526   \n",
       "InternetService_DSL                     1.000000                    -0.640987   \n",
       "InternetService_Fiber optic            -0.640987                     1.000000   \n",
       "InternetService_No                     -0.380635                    -0.465793   \n",
       "\n",
       "                             InternetService_No  \n",
       "SeniorCitizen                         -0.182742  \n",
       "Partner                                0.000615  \n",
       "Dependents                             0.139812  \n",
       "OnlineSecurity                        -0.333403  \n",
       "TechSupport                           -0.336298  \n",
       "PaperlessBilling                      -0.321013  \n",
       "Churn                                 -0.227890  \n",
       "AutoPaymentMethod                     -0.000909  \n",
       "Avg Term                               0.000691  \n",
       "Long Term                             -0.025818  \n",
       "New Cust                               0.020579  \n",
       "HighCharges                           -0.433662  \n",
       "LowCharges                             0.430861  \n",
       "Month-to-month                        -0.218639  \n",
       "One year                               0.038004  \n",
       "Two year                               0.218278  \n",
       "InternetService_DSL                   -0.380635  \n",
       "InternetService_Fiber optic           -0.465793  \n",
       "InternetService_No                     1.000000  "
      ]
     },
     "execution_count": 135,
     "metadata": {},
     "output_type": "execute_result"
    }
   ],
   "source": [
    "churn.corr()"
   ]
  },
  {
   "cell_type": "code",
   "execution_count": 136,
   "id": "b4e8c325-071a-48bb-a411-6d4da673f01f",
   "metadata": {},
   "outputs": [
    {
     "ename": "KeyError",
     "evalue": "'Contract'",
     "output_type": "error",
     "traceback": [
      "\u001b[1;31m---------------------------------------------------------------------------\u001b[0m",
      "\u001b[1;31mKeyError\u001b[0m                                  Traceback (most recent call last)",
      "\u001b[1;32m~\\anaconda3\\lib\\site-packages\\pandas\\core\\indexes\\base.py\u001b[0m in \u001b[0;36mget_loc\u001b[1;34m(self, key, method, tolerance)\u001b[0m\n\u001b[0;32m   3360\u001b[0m             \u001b[1;32mtry\u001b[0m\u001b[1;33m:\u001b[0m\u001b[1;33m\u001b[0m\u001b[1;33m\u001b[0m\u001b[0m\n\u001b[1;32m-> 3361\u001b[1;33m                 \u001b[1;32mreturn\u001b[0m \u001b[0mself\u001b[0m\u001b[1;33m.\u001b[0m\u001b[0m_engine\u001b[0m\u001b[1;33m.\u001b[0m\u001b[0mget_loc\u001b[0m\u001b[1;33m(\u001b[0m\u001b[0mcasted_key\u001b[0m\u001b[1;33m)\u001b[0m\u001b[1;33m\u001b[0m\u001b[1;33m\u001b[0m\u001b[0m\n\u001b[0m\u001b[0;32m   3362\u001b[0m             \u001b[1;32mexcept\u001b[0m \u001b[0mKeyError\u001b[0m \u001b[1;32mas\u001b[0m \u001b[0merr\u001b[0m\u001b[1;33m:\u001b[0m\u001b[1;33m\u001b[0m\u001b[1;33m\u001b[0m\u001b[0m\n",
      "\u001b[1;32m~\\anaconda3\\lib\\site-packages\\pandas\\_libs\\index.pyx\u001b[0m in \u001b[0;36mpandas._libs.index.IndexEngine.get_loc\u001b[1;34m()\u001b[0m\n",
      "\u001b[1;32m~\\anaconda3\\lib\\site-packages\\pandas\\_libs\\index.pyx\u001b[0m in \u001b[0;36mpandas._libs.index.IndexEngine.get_loc\u001b[1;34m()\u001b[0m\n",
      "\u001b[1;32mpandas\\_libs\\hashtable_class_helper.pxi\u001b[0m in \u001b[0;36mpandas._libs.hashtable.PyObjectHashTable.get_item\u001b[1;34m()\u001b[0m\n",
      "\u001b[1;32mpandas\\_libs\\hashtable_class_helper.pxi\u001b[0m in \u001b[0;36mpandas._libs.hashtable.PyObjectHashTable.get_item\u001b[1;34m()\u001b[0m\n",
      "\u001b[1;31mKeyError\u001b[0m: 'Contract'",
      "\nThe above exception was the direct cause of the following exception:\n",
      "\u001b[1;31mKeyError\u001b[0m                                  Traceback (most recent call last)",
      "\u001b[1;32mC:\\Users\\RONIAD~1\\AppData\\Local\\Temp/ipykernel_6724/3705281006.py\u001b[0m in \u001b[0;36m<module>\u001b[1;34m\u001b[0m\n\u001b[1;32m----> 1\u001b[1;33m \u001b[0mContract_churn\u001b[0m \u001b[1;33m=\u001b[0m \u001b[0mpd\u001b[0m\u001b[1;33m.\u001b[0m\u001b[0mget_dummies\u001b[0m\u001b[1;33m(\u001b[0m\u001b[0mchurn\u001b[0m\u001b[1;33m[\u001b[0m\u001b[1;34m'Contract'\u001b[0m\u001b[1;33m]\u001b[0m\u001b[1;33m)\u001b[0m\u001b[1;33m\u001b[0m\u001b[1;33m\u001b[0m\u001b[0m\n\u001b[0m\u001b[0;32m      2\u001b[0m \u001b[0mchurn\u001b[0m \u001b[1;33m=\u001b[0m \u001b[0mpd\u001b[0m\u001b[1;33m.\u001b[0m\u001b[0mmerge\u001b[0m\u001b[1;33m(\u001b[0m\u001b[0mchurn\u001b[0m\u001b[1;33m,\u001b[0m \u001b[0mContract_churn\u001b[0m\u001b[1;33m,\u001b[0m \u001b[0mleft_index\u001b[0m\u001b[1;33m=\u001b[0m\u001b[1;32mTrue\u001b[0m\u001b[1;33m,\u001b[0m \u001b[0mright_index\u001b[0m\u001b[1;33m=\u001b[0m\u001b[1;32mTrue\u001b[0m\u001b[1;33m)\u001b[0m\u001b[1;33m\u001b[0m\u001b[1;33m\u001b[0m\u001b[0m\n",
      "\u001b[1;32m~\\anaconda3\\lib\\site-packages\\pandas\\core\\frame.py\u001b[0m in \u001b[0;36m__getitem__\u001b[1;34m(self, key)\u001b[0m\n\u001b[0;32m   3456\u001b[0m             \u001b[1;32mif\u001b[0m \u001b[0mself\u001b[0m\u001b[1;33m.\u001b[0m\u001b[0mcolumns\u001b[0m\u001b[1;33m.\u001b[0m\u001b[0mnlevels\u001b[0m \u001b[1;33m>\u001b[0m \u001b[1;36m1\u001b[0m\u001b[1;33m:\u001b[0m\u001b[1;33m\u001b[0m\u001b[1;33m\u001b[0m\u001b[0m\n\u001b[0;32m   3457\u001b[0m                 \u001b[1;32mreturn\u001b[0m \u001b[0mself\u001b[0m\u001b[1;33m.\u001b[0m\u001b[0m_getitem_multilevel\u001b[0m\u001b[1;33m(\u001b[0m\u001b[0mkey\u001b[0m\u001b[1;33m)\u001b[0m\u001b[1;33m\u001b[0m\u001b[1;33m\u001b[0m\u001b[0m\n\u001b[1;32m-> 3458\u001b[1;33m             \u001b[0mindexer\u001b[0m \u001b[1;33m=\u001b[0m \u001b[0mself\u001b[0m\u001b[1;33m.\u001b[0m\u001b[0mcolumns\u001b[0m\u001b[1;33m.\u001b[0m\u001b[0mget_loc\u001b[0m\u001b[1;33m(\u001b[0m\u001b[0mkey\u001b[0m\u001b[1;33m)\u001b[0m\u001b[1;33m\u001b[0m\u001b[1;33m\u001b[0m\u001b[0m\n\u001b[0m\u001b[0;32m   3459\u001b[0m             \u001b[1;32mif\u001b[0m \u001b[0mis_integer\u001b[0m\u001b[1;33m(\u001b[0m\u001b[0mindexer\u001b[0m\u001b[1;33m)\u001b[0m\u001b[1;33m:\u001b[0m\u001b[1;33m\u001b[0m\u001b[1;33m\u001b[0m\u001b[0m\n\u001b[0;32m   3460\u001b[0m                 \u001b[0mindexer\u001b[0m \u001b[1;33m=\u001b[0m \u001b[1;33m[\u001b[0m\u001b[0mindexer\u001b[0m\u001b[1;33m]\u001b[0m\u001b[1;33m\u001b[0m\u001b[1;33m\u001b[0m\u001b[0m\n",
      "\u001b[1;32m~\\anaconda3\\lib\\site-packages\\pandas\\core\\indexes\\base.py\u001b[0m in \u001b[0;36mget_loc\u001b[1;34m(self, key, method, tolerance)\u001b[0m\n\u001b[0;32m   3361\u001b[0m                 \u001b[1;32mreturn\u001b[0m \u001b[0mself\u001b[0m\u001b[1;33m.\u001b[0m\u001b[0m_engine\u001b[0m\u001b[1;33m.\u001b[0m\u001b[0mget_loc\u001b[0m\u001b[1;33m(\u001b[0m\u001b[0mcasted_key\u001b[0m\u001b[1;33m)\u001b[0m\u001b[1;33m\u001b[0m\u001b[1;33m\u001b[0m\u001b[0m\n\u001b[0;32m   3362\u001b[0m             \u001b[1;32mexcept\u001b[0m \u001b[0mKeyError\u001b[0m \u001b[1;32mas\u001b[0m \u001b[0merr\u001b[0m\u001b[1;33m:\u001b[0m\u001b[1;33m\u001b[0m\u001b[1;33m\u001b[0m\u001b[0m\n\u001b[1;32m-> 3363\u001b[1;33m                 \u001b[1;32mraise\u001b[0m \u001b[0mKeyError\u001b[0m\u001b[1;33m(\u001b[0m\u001b[0mkey\u001b[0m\u001b[1;33m)\u001b[0m \u001b[1;32mfrom\u001b[0m \u001b[0merr\u001b[0m\u001b[1;33m\u001b[0m\u001b[1;33m\u001b[0m\u001b[0m\n\u001b[0m\u001b[0;32m   3364\u001b[0m \u001b[1;33m\u001b[0m\u001b[0m\n\u001b[0;32m   3365\u001b[0m         \u001b[1;32mif\u001b[0m \u001b[0mis_scalar\u001b[0m\u001b[1;33m(\u001b[0m\u001b[0mkey\u001b[0m\u001b[1;33m)\u001b[0m \u001b[1;32mand\u001b[0m \u001b[0misna\u001b[0m\u001b[1;33m(\u001b[0m\u001b[0mkey\u001b[0m\u001b[1;33m)\u001b[0m \u001b[1;32mand\u001b[0m \u001b[1;32mnot\u001b[0m \u001b[0mself\u001b[0m\u001b[1;33m.\u001b[0m\u001b[0mhasnans\u001b[0m\u001b[1;33m:\u001b[0m\u001b[1;33m\u001b[0m\u001b[1;33m\u001b[0m\u001b[0m\n",
      "\u001b[1;31mKeyError\u001b[0m: 'Contract'"
     ]
    }
   ],
   "source": [
    "\n",
    "Contract_churn = pd.get_dummies(churn['Contract'])\n",
    "churn = pd.merge(churn, Contract_churn, left_index=True, right_index=True)"
   ]
  },
  {
   "cell_type": "code",
   "execution_count": null,
   "id": "d8a01096-048d-43eb-b93f-bc779126a62f",
   "metadata": {},
   "outputs": [],
   "source": [
    "churn.corr()['Churn'].drop('Churn').plot(kind='barh')"
   ]
  },
  {
   "cell_type": "code",
   "execution_count": 372,
   "id": "ef6c32bb-b697-460c-9bf3-94639980e325",
   "metadata": {},
   "outputs": [
    {
     "data": {
      "text/plain": [
       "array(['Electronic check', 'Mailed check', 'Bank transfer (automatic)',\n",
       "       'Credit card (automatic)'], dtype=object)"
      ]
     },
     "execution_count": 372,
     "metadata": {},
     "output_type": "execute_result"
    }
   ],
   "source": [
    "\n",
    "churn.PaymentMethod.unique()"
   ]
  },
  {
   "cell_type": "code",
   "execution_count": null,
   "id": "f1d659b6-4e91-4ab6-98c6-6624b791400c",
   "metadata": {},
   "outputs": [],
   "source": []
  },
  {
   "cell_type": "code",
   "execution_count": 68,
   "id": "ca65a470-7058-43b4-b36d-041c6417feef",
   "metadata": {},
   "outputs": [
    {
     "data": {
      "text/plain": [
       "0"
      ]
     },
     "execution_count": 68,
     "metadata": {},
     "output_type": "execute_result"
    }
   ],
   "source": [
    "churn['MultipleLines'].loc[4]"
   ]
  },
  {
   "cell_type": "code",
   "execution_count": 69,
   "id": "9c199e45-4275-47c5-b7a4-d80ecce7b31f",
   "metadata": {},
   "outputs": [
    {
     "data": {
      "text/plain": [
       "1"
      ]
     },
     "execution_count": 69,
     "metadata": {},
     "output_type": "execute_result"
    }
   ],
   "source": [
    "churn['MultipleLines'].loc[6]"
   ]
  },
  {
   "cell_type": "code",
   "execution_count": 117,
   "id": "afbefadf-bfaf-447a-821a-731ade56b215",
   "metadata": {},
   "outputs": [],
   "source": [
    "churn.MultipleLines = (churn.MultipleLines=='Yes').astype('int')"
   ]
  },
  {
   "cell_type": "code",
   "execution_count": 371,
   "id": "559910a7-49a1-4c00-8242-076308eb8092",
   "metadata": {},
   "outputs": [
    {
     "ename": "AttributeError",
     "evalue": "'DataFrame' object has no attribute 'StreamingMovies'",
     "output_type": "error",
     "traceback": [
      "\u001b[1;31m---------------------------------------------------------------------------\u001b[0m",
      "\u001b[1;31mAttributeError\u001b[0m                            Traceback (most recent call last)",
      "\u001b[1;32mC:\\Users\\RONIAD~1\\AppData\\Local\\Temp/ipykernel_6644/3742075113.py\u001b[0m in \u001b[0;36m<module>\u001b[1;34m\u001b[0m\n\u001b[0;32m      1\u001b[0m \u001b[0mchurn\u001b[0m\u001b[1;33m.\u001b[0m\u001b[0mInternetService\u001b[0m\u001b[1;33m.\u001b[0m\u001b[0munique\u001b[0m\u001b[1;33m(\u001b[0m\u001b[1;33m)\u001b[0m\u001b[1;33m\u001b[0m\u001b[1;33m\u001b[0m\u001b[0m\n\u001b[0;32m      2\u001b[0m \u001b[0mchurn\u001b[0m\u001b[1;33m.\u001b[0m\u001b[0mContract\u001b[0m\u001b[1;33m.\u001b[0m\u001b[0munique\u001b[0m\u001b[1;33m(\u001b[0m\u001b[1;33m)\u001b[0m\u001b[1;33m\u001b[0m\u001b[1;33m\u001b[0m\u001b[0m\n\u001b[1;32m----> 3\u001b[1;33m \u001b[0mchurn\u001b[0m\u001b[1;33m.\u001b[0m\u001b[0mStreamingMovies\u001b[0m\u001b[1;33m.\u001b[0m\u001b[0munique\u001b[0m\u001b[1;33m(\u001b[0m\u001b[1;33m)\u001b[0m\u001b[1;33m\u001b[0m\u001b[1;33m\u001b[0m\u001b[0m\n\u001b[0m\u001b[0;32m      4\u001b[0m \u001b[0mchurn\u001b[0m\u001b[1;33m.\u001b[0m\u001b[0mPaymentMethod\u001b[0m\u001b[1;33m.\u001b[0m\u001b[0munique\u001b[0m\u001b[1;33m(\u001b[0m\u001b[1;33m)\u001b[0m\u001b[1;33m\u001b[0m\u001b[1;33m\u001b[0m\u001b[0m\n",
      "\u001b[1;32m~\\anaconda3\\lib\\site-packages\\pandas\\core\\generic.py\u001b[0m in \u001b[0;36m__getattr__\u001b[1;34m(self, name)\u001b[0m\n\u001b[0;32m   5485\u001b[0m         ):\n\u001b[0;32m   5486\u001b[0m             \u001b[1;32mreturn\u001b[0m \u001b[0mself\u001b[0m\u001b[1;33m[\u001b[0m\u001b[0mname\u001b[0m\u001b[1;33m]\u001b[0m\u001b[1;33m\u001b[0m\u001b[1;33m\u001b[0m\u001b[0m\n\u001b[1;32m-> 5487\u001b[1;33m         \u001b[1;32mreturn\u001b[0m \u001b[0mobject\u001b[0m\u001b[1;33m.\u001b[0m\u001b[0m__getattribute__\u001b[0m\u001b[1;33m(\u001b[0m\u001b[0mself\u001b[0m\u001b[1;33m,\u001b[0m \u001b[0mname\u001b[0m\u001b[1;33m)\u001b[0m\u001b[1;33m\u001b[0m\u001b[1;33m\u001b[0m\u001b[0m\n\u001b[0m\u001b[0;32m   5488\u001b[0m \u001b[1;33m\u001b[0m\u001b[0m\n\u001b[0;32m   5489\u001b[0m     \u001b[1;32mdef\u001b[0m \u001b[0m__setattr__\u001b[0m\u001b[1;33m(\u001b[0m\u001b[0mself\u001b[0m\u001b[1;33m,\u001b[0m \u001b[0mname\u001b[0m\u001b[1;33m:\u001b[0m \u001b[0mstr\u001b[0m\u001b[1;33m,\u001b[0m \u001b[0mvalue\u001b[0m\u001b[1;33m)\u001b[0m \u001b[1;33m->\u001b[0m \u001b[1;32mNone\u001b[0m\u001b[1;33m:\u001b[0m\u001b[1;33m\u001b[0m\u001b[1;33m\u001b[0m\u001b[0m\n",
      "\u001b[1;31mAttributeError\u001b[0m: 'DataFrame' object has no attribute 'StreamingMovies'"
     ]
    }
   ],
   "source": [
    "churn.InternetService.unique()\n",
    "churn.Contract.unique()\n",
    "churn.StreamingMovies.unique()\n",
    "churn.PaymentMethod.unique()"
   ]
  },
  {
   "cell_type": "code",
   "execution_count": 116,
   "id": "21a6a18f-f8bd-4e1c-92d9-4c91f296d999",
   "metadata": {},
   "outputs": [
    {
     "data": {
      "text/plain": [
       "customerID            object\n",
       "gender                object\n",
       "SeniorCitizen          int64\n",
       "Partner                int32\n",
       "Dependents             int32\n",
       "tenure                 int64\n",
       "PhoneService           int32\n",
       "MultipleLines          int32\n",
       "InternetService       object\n",
       "OnlineSecurity         int32\n",
       "OnlineBackup           int32\n",
       "DeviceProtection       int32\n",
       "TechSupport            int32\n",
       "StreamingTV            int32\n",
       "StreamingMovies        int32\n",
       "Contract              object\n",
       "PaperlessBilling       int32\n",
       "PaymentMethod         object\n",
       "MonthlyCharges       float64\n",
       "TotalCharges          object\n",
       "Churn                 object\n",
       "AutoPaymentMethod     object\n",
       "dtype: object"
      ]
     },
     "execution_count": 116,
     "metadata": {},
     "output_type": "execute_result"
    }
   ],
   "source": [
    "churn.dtypes"
   ]
  },
  {
   "cell_type": "code",
   "execution_count": 290,
   "id": "1e259a1f-313a-4bb8-9871-2e487c39eddf",
   "metadata": {},
   "outputs": [
    {
     "data": {
      "text/plain": [
       "array(['Electronic check', 'Mailed check', 'Bank transfer (automatic)',\n",
       "       'Credit card (automatic)'], dtype=object)"
      ]
     },
     "execution_count": 290,
     "metadata": {},
     "output_type": "execute_result"
    }
   ],
   "source": [
    "churn.PaymentMethod.unique()\n"
   ]
  },
  {
   "cell_type": "code",
   "execution_count": 45,
   "id": "1b55876e-32b8-42a6-861e-93a033203b95",
   "metadata": {},
   "outputs": [
    {
     "data": {
      "text/plain": [
       "array([0, 1], dtype=int64)"
      ]
     },
     "execution_count": 45,
     "metadata": {},
     "output_type": "execute_result"
    }
   ],
   "source": [
    "churn.SeniorCitizen.unique()"
   ]
  },
  {
   "cell_type": "code",
   "execution_count": 37,
   "id": "4e1a7837-7f6e-40a9-8c41-51abf36e659f",
   "metadata": {},
   "outputs": [
    {
     "data": {
      "text/plain": [
       "customerID          0\n",
       "gender              0\n",
       "SeniorCitizen       0\n",
       "Partner             0\n",
       "Dependents          0\n",
       "tenure              0\n",
       "PhoneService        0\n",
       "MultipleLines       0\n",
       "InternetService     0\n",
       "OnlineSecurity      0\n",
       "OnlineBackup        0\n",
       "DeviceProtection    0\n",
       "TechSupport         0\n",
       "StreamingTV         0\n",
       "StreamingMovies     0\n",
       "Contract            0\n",
       "PaperlessBilling    0\n",
       "PaymentMethod       0\n",
       "MonthlyCharges      0\n",
       "TotalCharges        0\n",
       "Churn               0\n",
       "dtype: int64"
      ]
     },
     "execution_count": 37,
     "metadata": {},
     "output_type": "execute_result"
    }
   ],
   "source": [
    "# Missing values in Values\n",
    "churn.isnull().sum()"
   ]
  },
  {
   "cell_type": "code",
   "execution_count": 38,
   "id": "ba07018c-d422-4327-9685-c4df32fa99a6",
   "metadata": {},
   "outputs": [
    {
     "data": {
      "text/plain": [
       "Electronic check             2365\n",
       "Mailed check                 1612\n",
       "Bank transfer (automatic)    1544\n",
       "Credit card (automatic)      1522\n",
       "Name: PaymentMethod, dtype: int64"
      ]
     },
     "execution_count": 38,
     "metadata": {},
     "output_type": "execute_result"
    }
   ],
   "source": [
    "churn.PaymentMethod.value_counts()"
   ]
  },
  {
   "cell_type": "code",
   "execution_count": 61,
   "id": "f320ab65-beea-4f01-b527-373d4ff6cce3",
   "metadata": {},
   "outputs": [
    {
     "data": {
      "text/plain": [
       "customerID               5575-GNVDE\n",
       "gender                         Male\n",
       "SeniorCitizen                     0\n",
       "Partner                           0\n",
       "Dependents                        0\n",
       "tenure                           34\n",
       "InternetService                 DSL\n",
       "OnlineSecurity                    1\n",
       "TechSupport                       0\n",
       "Contract                          Y\n",
       "PaperlessBilling                  0\n",
       "PaymentMethod          Mailed check\n",
       "MonthlyCharges                56.95\n",
       "TotalCharges                 1889.5\n",
       "Churn                             0\n",
       "AutoPaymentMethod                 0\n",
       "ChargeGroup          LowerThen50Per\n",
       "TotalChargesGroup    LowerThen75Per\n",
       "Name: 1, dtype: object"
      ]
     },
     "execution_count": 61,
     "metadata": {},
     "output_type": "execute_result"
    }
   ],
   "source": [
    "churn.loc[1]"
   ]
  }
 ],
 "metadata": {
  "kernelspec": {
   "display_name": "Python 3 (ipykernel)",
   "language": "python",
   "name": "python3"
  },
  "language_info": {
   "codemirror_mode": {
    "name": "ipython",
    "version": 3
   },
   "file_extension": ".py",
   "mimetype": "text/x-python",
   "name": "python",
   "nbconvert_exporter": "python",
   "pygments_lexer": "ipython3",
   "version": "3.9.7"
  }
 },
 "nbformat": 4,
 "nbformat_minor": 5
}
